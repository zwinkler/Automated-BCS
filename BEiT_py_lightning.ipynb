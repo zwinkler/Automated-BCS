{
 "cells": [
  {
   "cell_type": "code",
   "execution_count": 1,
   "metadata": {},
   "outputs": [
    {
     "name": "stderr",
     "output_type": "stream",
     "text": [
      "c:\\Users\\zacha\\anaconda3\\envs\\ML_env_pytorch\\lib\\site-packages\\tqdm\\auto.py:22: TqdmWarning: IProgress not found. Please update jupyter and ipywidgets. See https://ipywidgets.readthedocs.io/en/stable/user_install.html\n",
      "  from .autonotebook import tqdm as notebook_tqdm\n"
     ]
    }
   ],
   "source": [
    "import os\n",
    "import torch\n",
    "from torch import nn\n",
    "import torch.nn.functional as F\n",
    "from torchvision.datasets import MNIST\n",
    "from torch.utils.data import DataLoader, random_split\n",
    "from torchvision import transforms\n",
    "import pytorch_lightning as pl\n",
    "import torchmetrics\n",
    "import torch\n",
    "from torch import nn\n",
    "from sklearn.utils import class_weight\n",
    "import pandas as pd\n",
    "import numpy as np\n",
    "from datasets import load_dataset"
   ]
  },
  {
   "cell_type": "code",
   "execution_count": 2,
   "metadata": {},
   "outputs": [
    {
     "name": "stderr",
     "output_type": "stream",
     "text": [
      "Resolving data files: 100%|██████████| 4038/4038 [00:00<00:00, 16213.11it/s]\n",
      "Using custom data configuration DGE_all_70-18e391124edea51e\n",
      "Reusing dataset imagefolder (C:\\Users\\zacha\\.cache\\huggingface\\datasets\\imagefolder\\DGE_all_70-18e391124edea51e\\0.0.0\\0fc50c79b681877cc46b23245a6ef5333d036f48db40d53765a68034bc48faff)\n",
      "Resolving data files: 100%|██████████| 1152/1152 [00:00<00:00, 115169.91it/s]\n",
      "Using custom data configuration DGE_all_20-b199606014dd3027\n",
      "Reusing dataset imagefolder (C:\\Users\\zacha\\.cache\\huggingface\\datasets\\imagefolder\\DGE_all_20-b199606014dd3027\\0.0.0\\0fc50c79b681877cc46b23245a6ef5333d036f48db40d53765a68034bc48faff)\n",
      "Resolving data files: 100%|██████████| 574/574 [00:00<00:00, 287123.49it/s]\n",
      "Using custom data configuration DGE_all_10-9b1d13aa40bce860\n",
      "Reusing dataset imagefolder (C:\\Users\\zacha\\.cache\\huggingface\\datasets\\imagefolder\\DGE_all_10-9b1d13aa40bce860\\0.0.0\\0fc50c79b681877cc46b23245a6ef5333d036f48db40d53765a68034bc48faff)\n"
     ]
    }
   ],
   "source": [
    "from transformers import BeitFeatureExtractor\n",
    "\n",
    "feature_extractor = BeitFeatureExtractor.from_pretrained(\"google/vit-base-patch16-224-in21k\")\n",
    "# train_ds = load_dataset(\"DGE_training_mixed\", data_dir=\"*/\", split=\"train\")\n",
    "# val_ds = load_dataset(\"DGE_val_mixed\", data_dir=\"*/\", split=\"train\")\n",
    "# test_ds = load_dataset(\"DGE_test_mixed\", data_dir=\"*/\", split=\"train\")\n",
    "\n",
    "#For training with a 70/30 split, use the below code, requires manually sorting the dataset into train/test/val splits:\n",
    "train_ds = load_dataset(\"DGE_all_70\", data_dir=\"*/\", split=\"train\")\n",
    "val_ds = load_dataset(\"DGE_all_20\", data_dir=\"*/\", split=\"train\")\n",
    "test_ds = load_dataset(\"DGE_all_10\", data_dir=\"*/\", split=\"train\")"
   ]
  },
  {
   "cell_type": "code",
   "execution_count": 3,
   "metadata": {},
   "outputs": [
    {
     "name": "stdout",
     "output_type": "stream",
     "text": [
      "Dataset({\n",
      "    features: ['image', 'label'],\n",
      "    num_rows: 4038\n",
      "})\n"
     ]
    }
   ],
   "source": [
    "print(train_ds)"
   ]
  },
  {
   "cell_type": "code",
   "execution_count": 4,
   "metadata": {},
   "outputs": [
    {
     "name": "stdout",
     "output_type": "stream",
     "text": [
      "{'2': 0, '3': 1, '4': 2, '5': 3, '6': 4}\n"
     ]
    }
   ],
   "source": [
    "id2label = {id:label for id, label in enumerate(train_ds.features['label'].names)}\n",
    "label2id = {label:id for id,label in id2label.items()}\n",
    "print(label2id)"
   ]
  },
  {
   "cell_type": "code",
   "execution_count": 5,
   "metadata": {},
   "outputs": [],
   "source": [
    "#remove resize and uncomment all things to undo changes\n",
    "from torchvision.transforms import (CenterCrop, \n",
    "                                    Compose, \n",
    "                                    Normalize, \n",
    "                                    RandomHorizontalFlip,\n",
    "                                    RandomResizedCrop, \n",
    "                                    Resize, \n",
    "                                    ToTensor,\n",
    "                                    RandomRotation)\n",
    "\n",
    "normalize = Normalize(mean=feature_extractor.image_mean, std=feature_extractor.image_std)\n",
    "_train_transforms = Compose(\n",
    "        [   \n",
    "            #Resize(feature_extractor.size),\n",
    "            RandomResizedCrop(feature_extractor.size),\n",
    "            RandomHorizontalFlip(),\n",
    "            ToTensor(),\n",
    "            normalize,\n",
    "        ]\n",
    "    )\n",
    "\n",
    "_val_transforms = Compose(\n",
    "        [\n",
    "            Resize(feature_extractor.size),\n",
    "            CenterCrop(feature_extractor.size),\n",
    "            ToTensor(),\n",
    "            normalize,\n",
    "        ]\n",
    "    )\n",
    "\n",
    "def train_transforms(examples):\n",
    "    examples['pixel_values'] = [_train_transforms(image.convert(\"RGB\")) for image in examples['image']]\n",
    "    return examples\n",
    "\n",
    "def val_transforms(examples):\n",
    "    examples['pixel_values'] = [_val_transforms(image.convert(\"RGB\")) for image in examples['image']]\n",
    "    return examples"
   ]
  },
  {
   "cell_type": "code",
   "execution_count": 6,
   "metadata": {},
   "outputs": [],
   "source": [
    "train_ds.set_transform(train_transforms)\n",
    "val_ds.set_transform(val_transforms)\n",
    "test_ds.set_transform(val_transforms)"
   ]
  },
  {
   "cell_type": "code",
   "execution_count": 7,
   "metadata": {},
   "outputs": [
    {
     "name": "stdout",
     "output_type": "stream",
     "text": [
      "[1.47744511 3.31928251 0.57379845 0.48096166 5.00135135]\n"
     ]
    },
    {
     "data": {
      "text/plain": [
       "Text(0.5, 1.0, 'Sampler Weights')"
      ]
     },
     "execution_count": 7,
     "metadata": {},
     "output_type": "execute_result"
    },
    {
     "data": {
      "image/png": "[encoded data removed]",
      "text/plain": [
       "<Figure size 720x720 with 1 Axes>"
      ]
     },
     "metadata": {
      "needs_background": "light"
     },
     "output_type": "display_data"
    },
    {
     "data": {
      "image/png": "[encoded data removed]",
      "text/plain": [
       "<Figure size 720x720 with 1 Axes>"
      ]
     },
     "metadata": {
      "needs_background": "light"
     },
     "output_type": "display_data"
    }
   ],
   "source": [
    "from sklearn.utils import class_weight\n",
    "import pandas as pd\n",
    "import numpy as np\n",
    "import matplotlib.pyplot as plt\n",
    "\n",
    "train_df = pd.read_csv('train_data_mixed.csv',dtype=str)\n",
    "class_weights = class_weight.compute_class_weight('balanced', classes=np.unique(train_df['class']), y =train_df['class'])\n",
    "print(class_weights)\n",
    "\n",
    "# dataset_size = len(train_ds[:]['label'])\n",
    "# train_count = int(dataset_size * 0.7)\n",
    "# val_count = int(dataset_size - train_count)\n",
    "y_train = train_ds[:]['label']\n",
    "\n",
    "#print(train_dataset[0])\n",
    "import numpy as np \n",
    "\n",
    "#y_train_indices = train_dataset[\"train\"].indices\n",
    "\n",
    "#y_train = train_ds[:]['label']\n",
    "\n",
    "class_sample_count = np.array(\n",
    "    [len(np.where(y_train == t)[0]) for t in np.unique(y_train)])\n",
    "\n",
    "weight = 1. / class_sample_count\n",
    "samples_weight = np.array([weight[t] for t in y_train])\n",
    "samples_weight = torch.from_numpy(samples_weight)\n",
    "\n",
    "sampler = torch.utils.data.WeightedRandomSampler(samples_weight.type('torch.DoubleTensor'), len(samples_weight))\n",
    "\n",
    "plt.figure(figsize=(10,10))\n",
    "plt.plot(class_weights)\n",
    "plt.title('Class Weights')\n",
    "\n",
    "plt.figure(figsize=(10,10))\n",
    "plt.plot(samples_weight)\n",
    "plt.title('Sampler Weights')"
   ]
  },
  {
   "cell_type": "code",
   "execution_count": 8,
   "metadata": {},
   "outputs": [],
   "source": [
    "from torch.utils.data import DataLoader\n",
    "import torch\n",
    "\n",
    "def collate_fn(examples):\n",
    "    pixel_values = torch.stack([example[\"pixel_values\"] for example in examples])\n",
    "    labels = torch.tensor([example[\"label\"] for example in examples])\n",
    "    return {\"pixel_values\": pixel_values, \"labels\": labels}\n",
    "\n",
    "train_batch_size = 16\n",
    "eval_batch_size = 8\n",
    "\n",
    "#the index errors are caused by the dataloaders indexing values that are out of bounds!\n",
    "\n",
    "train_dataloader = DataLoader(train_ds, collate_fn=collate_fn, batch_size=train_batch_size, sampler=sampler)\n",
    "val_dataloader = DataLoader(val_ds, collate_fn=collate_fn, batch_size=eval_batch_size)#, sampler=sampler)\n",
    "test_dataloader = DataLoader(test_ds, collate_fn=collate_fn, batch_size=train_batch_size)"
   ]
  },
  {
   "cell_type": "code",
   "execution_count": 9,
   "metadata": {},
   "outputs": [
    {
     "name": "stdout",
     "output_type": "stream",
     "text": [
      "1152\n",
      "1462\n"
     ]
    }
   ],
   "source": [
    "#print(val_ds['label'][:])\n",
    "print(len(val_dataloader.dataset))\n",
    "print(len(pd.read_csv('val_data_mixed.csv',dtype=str)['class']))"
   ]
  },
  {
   "cell_type": "code",
   "execution_count": 10,
   "metadata": {},
   "outputs": [
    {
     "name": "stdout",
     "output_type": "stream",
     "text": [
      "pixel_values torch.Size([16, 3, 224, 224])\n",
      "labels torch.Size([16])\n"
     ]
    }
   ],
   "source": [
    "batch = next(iter(train_dataloader))\n",
    "for k,v in batch.items():\n",
    "  if isinstance(v, torch.Tensor):\n",
    "    print(k, v.shape)"
   ]
  },
  {
   "cell_type": "code",
   "execution_count": 11,
   "metadata": {},
   "outputs": [],
   "source": [
    "assert batch['pixel_values'].shape == (train_batch_size, 3, 224, 224)\n",
    "assert batch['labels'].shape == (train_batch_size,)"
   ]
  },
  {
   "cell_type": "code",
   "execution_count": 12,
   "metadata": {},
   "outputs": [],
   "source": [
    "import pytorch_lightning as pl\n",
    "from transformers import BeitForImageClassification, AdamW\n",
    "import torch.nn as nn\n",
    "\n",
    "class ViTLightningModule(pl.LightningModule):\n",
    "    def __init__(self, num_labels=10):\n",
    "        super(ViTLightningModule, self).__init__()\n",
    "        self.vit = BeitForImageClassification.from_pretrained(\"microsoft/beit-base-patch16-224\",\n",
    "                                                              num_labels=5,\n",
    "                                                              id2label=id2label,\n",
    "                                                              label2id=label2id,\n",
    "                                                              ignore_mismatched_sizes=True)\n",
    "\n",
    "    def forward(self, pixel_values):\n",
    "        outputs = self.vit(pixel_values=pixel_values)\n",
    "        return outputs.logits\n",
    "        \n",
    "    def common_step(self, batch, batch_idx):\n",
    "        pixel_values = batch['pixel_values']\n",
    "        labels = batch['labels']\n",
    "        logits = self(pixel_values)\n",
    "\n",
    "        #criterion = nn.CrossEntropyLoss()\n",
    "        criterion = nn.CrossEntropyLoss(weight=torch.cuda.FloatTensor(class_weights))\n",
    "        loss = criterion(logits, labels)\n",
    "        predictions = logits.argmax(-1)\n",
    "        correct = (predictions == labels).sum().item()\n",
    "        accuracy = correct/pixel_values.shape[0]\n",
    "\n",
    "        return loss, accuracy\n",
    "      \n",
    "    def training_step(self, batch, batch_idx):\n",
    "        loss, accuracy = self.common_step(batch, batch_idx)     \n",
    "        # logs metrics for each training_step,\n",
    "        # and the average across the epoch\n",
    "        self.log(\"training_loss\", loss)\n",
    "        self.log(\"training_accuracy\", accuracy)\n",
    "\n",
    "        return loss\n",
    "    \n",
    "    def validation_step(self, batch, batch_idx):\n",
    "        loss, accuracy = self.common_step(batch, batch_idx)\n",
    "        self.log(\"validation_loss\", loss, on_epoch=True)\n",
    "        self.log(\"validation_accuracy\", accuracy, on_epoch=True)\n",
    "\n",
    "        return loss\n",
    "\n",
    "    def test_step(self, batch, batch_idx):\n",
    "        loss, accuracy = self.common_step(batch, batch_idx)\n",
    "        self.log(\"test_loss\", loss, on_epoch=True)\n",
    "        self.log(\"test_accuracy\", accuracy, on_epoch=True)\n",
    "\n",
    "        return loss, accuracy\n",
    "\n",
    "    def configure_optimizers(self):\n",
    "        # We could make the optimizer more fancy by adding a scheduler and specifying which parameters do\n",
    "        # not require weight_decay but just using AdamW out-of-the-box works fine\n",
    "        return AdamW(self.parameters(), lr=1e-5)\n",
    "\n",
    "    def train_dataloader(self):\n",
    "        return train_dataloader\n",
    "\n",
    "    def val_dataloader(self):\n",
    "        return val_dataloader\n",
    "    \n",
    "    def test_dataloader(self):\n",
    "        return test_dataloader\n",
    "    \n",
    "    def predict_dataloader(self):\n",
    "        return test_dataloader"
   ]
  },
  {
   "cell_type": "code",
   "execution_count": 13,
   "metadata": {},
   "outputs": [
    {
     "name": "stderr",
     "output_type": "stream",
     "text": [
      "c:\\Users\\zacha\\anaconda3\\envs\\ML_env_pytorch\\lib\\site-packages\\torch\\functional.py:478: UserWarning: torch.meshgrid: in an upcoming release, it will be required to pass the indexing argument. (Triggered internally at  C:\\actions-runner\\_work\\pytorch\\pytorch\\builder\\windows\\pytorch\\aten\\src\\ATen\\native\\TensorShape.cpp:2895.)\n",
      "  return _VF.meshgrid(tensors, **kwargs)  # type: ignore[attr-defined]\n",
      "Some weights of BeitForImageClassification were not initialized from the model checkpoint at microsoft/beit-base-patch16-224 and are newly initialized because the shapes did not match:\n",
      "- classifier.weight: found shape torch.Size([1000, 768]) in the checkpoint and torch.Size([5, 768]) in the model instantiated\n",
      "- classifier.bias: found shape torch.Size([1000]) in the checkpoint and torch.Size([5]) in the model instantiated\n",
      "You should probably TRAIN this model on a down-stream task to be able to use it for predictions and inference.\n",
      "GPU available: True (cuda), used: True\n",
      "TPU available: False, using: 0 TPU cores\n",
      "IPU available: False, using: 0 IPUs\n",
      "HPU available: False, using: 0 HPUs\n"
     ]
    }
   ],
   "source": [
    "from pytorch_lightning import Trainer\n",
    "from pytorch_lightning.callbacks import EarlyStopping, ModelCheckpoint\n",
    "\n",
    "# for early stopping, see https://pytorch-lightning.readthedocs.io/en/1.0.0/early_stopping.html?highlight=early%20stopping\n",
    "early_stop_callback = EarlyStopping(\n",
    "    monitor='validation_loss',\n",
    "    patience=0,\n",
    "    strict=False,\n",
    "    verbose=True,\n",
    "    mode='min',\n",
    "    check_on_train_epoch_end=True\n",
    ")\n",
    "\n",
    "#checkpoint = ModelCheckpoint(dirpath='VIT_models\\\\', filename='{epoch}-{validation_loss:.2f}-{validation_accuracy:.2f}', monitor='validation_loss', save_top_k=2)\n",
    "\n",
    "model = ViTLightningModule()\n",
    "trainer = Trainer(accelerator='gpu', devices=1, callbacks=[early_stop_callback],#, checkpoint],\n",
    "    enable_checkpointing=False,\n",
    "    logger=False,\n",
    "    check_val_every_n_epoch=1, \n",
    "    max_epochs=2,\n",
    "    min_epochs=0,\n",
    "    )\n",
    "\n",
    "#trainer.fit(model)"
   ]
  },
  {
   "cell_type": "code",
   "execution_count": 14,
   "metadata": {},
   "outputs": [
    {
     "data": {
      "text/plain": [
       "    | Name                                                                 | Type                       | Params\n",
       "----------------------------------------------------------------------------------------------------------------------\n",
       "0   | vit                                                                  | BeitForImageClassification | 85.8 M\n",
       "1   | vit.beit                                                             | BeitModel                  | 85.8 M\n",
       "2   | vit.beit.embeddings                                                  | BeitEmbeddings             | 591 K \n",
       "3   | vit.beit.embeddings.patch_embeddings                                 | BeitPatchEmbeddings        | 590 K \n",
       "4   | vit.beit.embeddings.patch_embeddings.projection                      | Conv2d                     | 590 K \n",
       "5   | vit.beit.embeddings.dropout                                          | Dropout                    | 0     \n",
       "6   | vit.beit.encoder                                                     | BeitEncoder                | 85.2 M\n",
       "7   | vit.beit.encoder.layer                                               | ModuleList                 | 85.2 M\n",
       "8   | vit.beit.encoder.layer.0                                             | BeitLayer                  | 7.1 M \n",
       "9   | vit.beit.encoder.layer.0.attention                                   | BeitAttention              | 2.4 M \n",
       "10  | vit.beit.encoder.layer.0.attention.attention                         | BeitSelfAttention          | 1.8 M \n",
       "11  | vit.beit.encoder.layer.0.attention.attention.query                   | Linear                     | 590 K \n",
       "12  | vit.beit.encoder.layer.0.attention.attention.key                     | Linear                     | 589 K \n",
       "13  | vit.beit.encoder.layer.0.attention.attention.value                   | Linear                     | 590 K \n",
       "14  | vit.beit.encoder.layer.0.attention.attention.dropout                 | Dropout                    | 0     \n",
       "15  | vit.beit.encoder.layer.0.attention.attention.relative_position_bias  | BeitRelativePositionBias   | 8.8 K \n",
       "16  | vit.beit.encoder.layer.0.attention.output                            | BeitSelfOutput             | 590 K \n",
       "17  | vit.beit.encoder.layer.0.attention.output.dense                      | Linear                     | 590 K \n",
       "18  | vit.beit.encoder.layer.0.attention.output.dropout                    | Dropout                    | 0     \n",
       "19  | vit.beit.encoder.layer.0.intermediate                                | BeitIntermediate           | 2.4 M \n",
       "20  | vit.beit.encoder.layer.0.intermediate.dense                          | Linear                     | 2.4 M \n",
       "21  | vit.beit.encoder.layer.0.intermediate.intermediate_act_fn            | GELUActivation             | 0     \n",
       "22  | vit.beit.encoder.layer.0.output                                      | BeitOutput                 | 2.4 M \n",
       "23  | vit.beit.encoder.layer.0.output.dense                                | Linear                     | 2.4 M \n",
       "24  | vit.beit.encoder.layer.0.output.dropout                              | Dropout                    | 0     \n",
       "25  | vit.beit.encoder.layer.0.layernorm_before                            | LayerNorm                  | 1.5 K \n",
       "26  | vit.beit.encoder.layer.0.drop_path                                   | Identity                   | 0     \n",
       "27  | vit.beit.encoder.layer.0.layernorm_after                             | LayerNorm                  | 1.5 K \n",
       "28  | vit.beit.encoder.layer.1                                             | BeitLayer                  | 7.1 M \n",
       "29  | vit.beit.encoder.layer.1.attention                                   | BeitAttention              | 2.4 M \n",
       "30  | vit.beit.encoder.layer.1.attention.attention                         | BeitSelfAttention          | 1.8 M \n",
       "31  | vit.beit.encoder.layer.1.attention.attention.query                   | Linear                     | 590 K \n",
       "32  | vit.beit.encoder.layer.1.attention.attention.key                     | Linear                     | 589 K \n",
       "33  | vit.beit.encoder.layer.1.attention.attention.value                   | Linear                     | 590 K \n",
       "34  | vit.beit.encoder.layer.1.attention.attention.dropout                 | Dropout                    | 0     \n",
       "35  | vit.beit.encoder.layer.1.attention.attention.relative_position_bias  | BeitRelativePositionBias   | 8.8 K \n",
       "36  | vit.beit.encoder.layer.1.attention.output                            | BeitSelfOutput             | 590 K \n",
       "37  | vit.beit.encoder.layer.1.attention.output.dense                      | Linear                     | 590 K \n",
       "38  | vit.beit.encoder.layer.1.attention.output.dropout                    | Dropout                    | 0     \n",
       "39  | vit.beit.encoder.layer.1.intermediate                                | BeitIntermediate           | 2.4 M \n",
       "40  | vit.beit.encoder.layer.1.intermediate.dense                          | Linear                     | 2.4 M \n",
       "41  | vit.beit.encoder.layer.1.output                                      | BeitOutput                 | 2.4 M \n",
       "42  | vit.beit.encoder.layer.1.output.dense                                | Linear                     | 2.4 M \n",
       "43  | vit.beit.encoder.layer.1.output.dropout                              | Dropout                    | 0     \n",
       "44  | vit.beit.encoder.layer.1.layernorm_before                            | LayerNorm                  | 1.5 K \n",
       "45  | vit.beit.encoder.layer.1.drop_path                                   | BeitDropPath               | 0     \n",
       "46  | vit.beit.encoder.layer.1.layernorm_after                             | LayerNorm                  | 1.5 K \n",
       "47  | vit.beit.encoder.layer.2                                             | BeitLayer                  | 7.1 M \n",
       "48  | vit.beit.encoder.layer.2.attention                                   | BeitAttention              | 2.4 M \n",
       "49  | vit.beit.encoder.layer.2.attention.attention                         | BeitSelfAttention          | 1.8 M \n",
       "50  | vit.beit.encoder.layer.2.attention.attention.query                   | Linear                     | 590 K \n",
       "51  | vit.beit.encoder.layer.2.attention.attention.key                     | Linear                     | 589 K \n",
       "52  | vit.beit.encoder.layer.2.attention.attention.value                   | Linear                     | 590 K \n",
       "53  | vit.beit.encoder.layer.2.attention.attention.dropout                 | Dropout                    | 0     \n",
       "54  | vit.beit.encoder.layer.2.attention.attention.relative_position_bias  | BeitRelativePositionBias   | 8.8 K \n",
       "55  | vit.beit.encoder.layer.2.attention.output                            | BeitSelfOutput             | 590 K \n",
       "56  | vit.beit.encoder.layer.2.attention.output.dense                      | Linear                     | 590 K \n",
       "57  | vit.beit.encoder.layer.2.attention.output.dropout                    | Dropout                    | 0     \n",
       "58  | vit.beit.encoder.layer.2.intermediate                                | BeitIntermediate           | 2.4 M \n",
       "59  | vit.beit.encoder.layer.2.intermediate.dense                          | Linear                     | 2.4 M \n",
       "60  | vit.beit.encoder.layer.2.output                                      | BeitOutput                 | 2.4 M \n",
       "61  | vit.beit.encoder.layer.2.output.dense                                | Linear                     | 2.4 M \n",
       "62  | vit.beit.encoder.layer.2.output.dropout                              | Dropout                    | 0     \n",
       "63  | vit.beit.encoder.layer.2.layernorm_before                            | LayerNorm                  | 1.5 K \n",
       "64  | vit.beit.encoder.layer.2.drop_path                                   | BeitDropPath               | 0     \n",
       "65  | vit.beit.encoder.layer.2.layernorm_after                             | LayerNorm                  | 1.5 K \n",
       "66  | vit.beit.encoder.layer.3                                             | BeitLayer                  | 7.1 M \n",
       "67  | vit.beit.encoder.layer.3.attention                                   | BeitAttention              | 2.4 M \n",
       "68  | vit.beit.encoder.layer.3.attention.attention                         | BeitSelfAttention          | 1.8 M \n",
       "69  | vit.beit.encoder.layer.3.attention.attention.query                   | Linear                     | 590 K \n",
       "70  | vit.beit.encoder.layer.3.attention.attention.key                     | Linear                     | 589 K \n",
       "71  | vit.beit.encoder.layer.3.attention.attention.value                   | Linear                     | 590 K \n",
       "72  | vit.beit.encoder.layer.3.attention.attention.dropout                 | Dropout                    | 0     \n",
       "73  | vit.beit.encoder.layer.3.attention.attention.relative_position_bias  | BeitRelativePositionBias   | 8.8 K \n",
       "74  | vit.beit.encoder.layer.3.attention.output                            | BeitSelfOutput             | 590 K \n",
       "75  | vit.beit.encoder.layer.3.attention.output.dense                      | Linear                     | 590 K \n",
       "76  | vit.beit.encoder.layer.3.attention.output.dropout                    | Dropout                    | 0     \n",
       "77  | vit.beit.encoder.layer.3.intermediate                                | BeitIntermediate           | 2.4 M \n",
       "78  | vit.beit.encoder.layer.3.intermediate.dense                          | Linear                     | 2.4 M \n",
       "79  | vit.beit.encoder.layer.3.output                                      | BeitOutput                 | 2.4 M \n",
       "80  | vit.beit.encoder.layer.3.output.dense                                | Linear                     | 2.4 M \n",
       "81  | vit.beit.encoder.layer.3.output.dropout                              | Dropout                    | 0     \n",
       "82  | vit.beit.encoder.layer.3.layernorm_before                            | LayerNorm                  | 1.5 K \n",
       "83  | vit.beit.encoder.layer.3.drop_path                                   | BeitDropPath               | 0     \n",
       "84  | vit.beit.encoder.layer.3.layernorm_after                             | LayerNorm                  | 1.5 K \n",
       "85  | vit.beit.encoder.layer.4                                             | BeitLayer                  | 7.1 M \n",
       "86  | vit.beit.encoder.layer.4.attention                                   | BeitAttention              | 2.4 M \n",
       "87  | vit.beit.encoder.layer.4.attention.attention                         | BeitSelfAttention          | 1.8 M \n",
       "88  | vit.beit.encoder.layer.4.attention.attention.query                   | Linear                     | 590 K \n",
       "89  | vit.beit.encoder.layer.4.attention.attention.key                     | Linear                     | 589 K \n",
       "90  | vit.beit.encoder.layer.4.attention.attention.value                   | Linear                     | 590 K \n",
       "91  | vit.beit.encoder.layer.4.attention.attention.dropout                 | Dropout                    | 0     \n",
       "92  | vit.beit.encoder.layer.4.attention.attention.relative_position_bias  | BeitRelativePositionBias   | 8.8 K \n",
       "93  | vit.beit.encoder.layer.4.attention.output                            | BeitSelfOutput             | 590 K \n",
       "94  | vit.beit.encoder.layer.4.attention.output.dense                      | Linear                     | 590 K \n",
       "95  | vit.beit.encoder.layer.4.attention.output.dropout                    | Dropout                    | 0     \n",
       "96  | vit.beit.encoder.layer.4.intermediate                                | BeitIntermediate           | 2.4 M \n",
       "97  | vit.beit.encoder.layer.4.intermediate.dense                          | Linear                     | 2.4 M \n",
       "98  | vit.beit.encoder.layer.4.output                                      | BeitOutput                 | 2.4 M \n",
       "99  | vit.beit.encoder.layer.4.output.dense                                | Linear                     | 2.4 M \n",
       "100 | vit.beit.encoder.layer.4.output.dropout                              | Dropout                    | 0     \n",
       "101 | vit.beit.encoder.layer.4.layernorm_before                            | LayerNorm                  | 1.5 K \n",
       "102 | vit.beit.encoder.layer.4.drop_path                                   | BeitDropPath               | 0     \n",
       "103 | vit.beit.encoder.layer.4.layernorm_after                             | LayerNorm                  | 1.5 K \n",
       "104 | vit.beit.encoder.layer.5                                             | BeitLayer                  | 7.1 M \n",
       "105 | vit.beit.encoder.layer.5.attention                                   | BeitAttention              | 2.4 M \n",
       "106 | vit.beit.encoder.layer.5.attention.attention                         | BeitSelfAttention          | 1.8 M \n",
       "107 | vit.beit.encoder.layer.5.attention.attention.query                   | Linear                     | 590 K \n",
       "108 | vit.beit.encoder.layer.5.attention.attention.key                     | Linear                     | 589 K \n",
       "109 | vit.beit.encoder.layer.5.attention.attention.value                   | Linear                     | 590 K \n",
       "110 | vit.beit.encoder.layer.5.attention.attention.dropout                 | Dropout                    | 0     \n",
       "111 | vit.beit.encoder.layer.5.attention.attention.relative_position_bias  | BeitRelativePositionBias   | 8.8 K \n",
       "112 | vit.beit.encoder.layer.5.attention.output                            | BeitSelfOutput             | 590 K \n",
       "113 | vit.beit.encoder.layer.5.attention.output.dense                      | Linear                     | 590 K \n",
       "114 | vit.beit.encoder.layer.5.attention.output.dropout                    | Dropout                    | 0     \n",
       "115 | vit.beit.encoder.layer.5.intermediate                                | BeitIntermediate           | 2.4 M \n",
       "116 | vit.beit.encoder.layer.5.intermediate.dense                          | Linear                     | 2.4 M \n",
       "117 | vit.beit.encoder.layer.5.output                                      | BeitOutput                 | 2.4 M \n",
       "118 | vit.beit.encoder.layer.5.output.dense                                | Linear                     | 2.4 M \n",
       "119 | vit.beit.encoder.layer.5.output.dropout                              | Dropout                    | 0     \n",
       "120 | vit.beit.encoder.layer.5.layernorm_before                            | LayerNorm                  | 1.5 K \n",
       "121 | vit.beit.encoder.layer.5.drop_path                                   | BeitDropPath               | 0     \n",
       "122 | vit.beit.encoder.layer.5.layernorm_after                             | LayerNorm                  | 1.5 K \n",
       "123 | vit.beit.encoder.layer.6                                             | BeitLayer                  | 7.1 M \n",
       "124 | vit.beit.encoder.layer.6.attention                                   | BeitAttention              | 2.4 M \n",
       "125 | vit.beit.encoder.layer.6.attention.attention                         | BeitSelfAttention          | 1.8 M \n",
       "126 | vit.beit.encoder.layer.6.attention.attention.query                   | Linear                     | 590 K \n",
       "127 | vit.beit.encoder.layer.6.attention.attention.key                     | Linear                     | 589 K \n",
       "128 | vit.beit.encoder.layer.6.attention.attention.value                   | Linear                     | 590 K \n",
       "129 | vit.beit.encoder.layer.6.attention.attention.dropout                 | Dropout                    | 0     \n",
       "130 | vit.beit.encoder.layer.6.attention.attention.relative_position_bias  | BeitRelativePositionBias   | 8.8 K \n",
       "131 | vit.beit.encoder.layer.6.attention.output                            | BeitSelfOutput             | 590 K \n",
       "132 | vit.beit.encoder.layer.6.attention.output.dense                      | Linear                     | 590 K \n",
       "133 | vit.beit.encoder.layer.6.attention.output.dropout                    | Dropout                    | 0     \n",
       "134 | vit.beit.encoder.layer.6.intermediate                                | BeitIntermediate           | 2.4 M \n",
       "135 | vit.beit.encoder.layer.6.intermediate.dense                          | Linear                     | 2.4 M \n",
       "136 | vit.beit.encoder.layer.6.output                                      | BeitOutput                 | 2.4 M \n",
       "137 | vit.beit.encoder.layer.6.output.dense                                | Linear                     | 2.4 M \n",
       "138 | vit.beit.encoder.layer.6.output.dropout                              | Dropout                    | 0     \n",
       "139 | vit.beit.encoder.layer.6.layernorm_before                            | LayerNorm                  | 1.5 K \n",
       "140 | vit.beit.encoder.layer.6.drop_path                                   | BeitDropPath               | 0     \n",
       "141 | vit.beit.encoder.layer.6.layernorm_after                             | LayerNorm                  | 1.5 K \n",
       "142 | vit.beit.encoder.layer.7                                             | BeitLayer                  | 7.1 M \n",
       "143 | vit.beit.encoder.layer.7.attention                                   | BeitAttention              | 2.4 M \n",
       "144 | vit.beit.encoder.layer.7.attention.attention                         | BeitSelfAttention          | 1.8 M \n",
       "145 | vit.beit.encoder.layer.7.attention.attention.query                   | Linear                     | 590 K \n",
       "146 | vit.beit.encoder.layer.7.attention.attention.key                     | Linear                     | 589 K \n",
       "147 | vit.beit.encoder.layer.7.attention.attention.value                   | Linear                     | 590 K \n",
       "148 | vit.beit.encoder.layer.7.attention.attention.dropout                 | Dropout                    | 0     \n",
       "149 | vit.beit.encoder.layer.7.attention.attention.relative_position_bias  | BeitRelativePositionBias   | 8.8 K \n",
       "150 | vit.beit.encoder.layer.7.attention.output                            | BeitSelfOutput             | 590 K \n",
       "151 | vit.beit.encoder.layer.7.attention.output.dense                      | Linear                     | 590 K \n",
       "152 | vit.beit.encoder.layer.7.attention.output.dropout                    | Dropout                    | 0     \n",
       "153 | vit.beit.encoder.layer.7.intermediate                                | BeitIntermediate           | 2.4 M \n",
       "154 | vit.beit.encoder.layer.7.intermediate.dense                          | Linear                     | 2.4 M \n",
       "155 | vit.beit.encoder.layer.7.output                                      | BeitOutput                 | 2.4 M \n",
       "156 | vit.beit.encoder.layer.7.output.dense                                | Linear                     | 2.4 M \n",
       "157 | vit.beit.encoder.layer.7.output.dropout                              | Dropout                    | 0     \n",
       "158 | vit.beit.encoder.layer.7.layernorm_before                            | LayerNorm                  | 1.5 K \n",
       "159 | vit.beit.encoder.layer.7.drop_path                                   | BeitDropPath               | 0     \n",
       "160 | vit.beit.encoder.layer.7.layernorm_after                             | LayerNorm                  | 1.5 K \n",
       "161 | vit.beit.encoder.layer.8                                             | BeitLayer                  | 7.1 M \n",
       "162 | vit.beit.encoder.layer.8.attention                                   | BeitAttention              | 2.4 M \n",
       "163 | vit.beit.encoder.layer.8.attention.attention                         | BeitSelfAttention          | 1.8 M \n",
       "164 | vit.beit.encoder.layer.8.attention.attention.query                   | Linear                     | 590 K \n",
       "165 | vit.beit.encoder.layer.8.attention.attention.key                     | Linear                     | 589 K \n",
       "166 | vit.beit.encoder.layer.8.attention.attention.value                   | Linear                     | 590 K \n",
       "167 | vit.beit.encoder.layer.8.attention.attention.dropout                 | Dropout                    | 0     \n",
       "168 | vit.beit.encoder.layer.8.attention.attention.relative_position_bias  | BeitRelativePositionBias   | 8.8 K \n",
       "169 | vit.beit.encoder.layer.8.attention.output                            | BeitSelfOutput             | 590 K \n",
       "170 | vit.beit.encoder.layer.8.attention.output.dense                      | Linear                     | 590 K \n",
       "171 | vit.beit.encoder.layer.8.attention.output.dropout                    | Dropout                    | 0     \n",
       "172 | vit.beit.encoder.layer.8.intermediate                                | BeitIntermediate           | 2.4 M \n",
       "173 | vit.beit.encoder.layer.8.intermediate.dense                          | Linear                     | 2.4 M \n",
       "174 | vit.beit.encoder.layer.8.output                                      | BeitOutput                 | 2.4 M \n",
       "175 | vit.beit.encoder.layer.8.output.dense                                | Linear                     | 2.4 M \n",
       "176 | vit.beit.encoder.layer.8.output.dropout                              | Dropout                    | 0     \n",
       "177 | vit.beit.encoder.layer.8.layernorm_before                            | LayerNorm                  | 1.5 K \n",
       "178 | vit.beit.encoder.layer.8.drop_path                                   | BeitDropPath               | 0     \n",
       "179 | vit.beit.encoder.layer.8.layernorm_after                             | LayerNorm                  | 1.5 K \n",
       "180 | vit.beit.encoder.layer.9                                             | BeitLayer                  | 7.1 M \n",
       "181 | vit.beit.encoder.layer.9.attention                                   | BeitAttention              | 2.4 M \n",
       "182 | vit.beit.encoder.layer.9.attention.attention                         | BeitSelfAttention          | 1.8 M \n",
       "183 | vit.beit.encoder.layer.9.attention.attention.query                   | Linear                     | 590 K \n",
       "184 | vit.beit.encoder.layer.9.attention.attention.key                     | Linear                     | 589 K \n",
       "185 | vit.beit.encoder.layer.9.attention.attention.value                   | Linear                     | 590 K \n",
       "186 | vit.beit.encoder.layer.9.attention.attention.dropout                 | Dropout                    | 0     \n",
       "187 | vit.beit.encoder.layer.9.attention.attention.relative_position_bias  | BeitRelativePositionBias   | 8.8 K \n",
       "188 | vit.beit.encoder.layer.9.attention.output                            | BeitSelfOutput             | 590 K \n",
       "189 | vit.beit.encoder.layer.9.attention.output.dense                      | Linear                     | 590 K \n",
       "190 | vit.beit.encoder.layer.9.attention.output.dropout                    | Dropout                    | 0     \n",
       "191 | vit.beit.encoder.layer.9.intermediate                                | BeitIntermediate           | 2.4 M \n",
       "192 | vit.beit.encoder.layer.9.intermediate.dense                          | Linear                     | 2.4 M \n",
       "193 | vit.beit.encoder.layer.9.output                                      | BeitOutput                 | 2.4 M \n",
       "194 | vit.beit.encoder.layer.9.output.dense                                | Linear                     | 2.4 M \n",
       "195 | vit.beit.encoder.layer.9.output.dropout                              | Dropout                    | 0     \n",
       "196 | vit.beit.encoder.layer.9.layernorm_before                            | LayerNorm                  | 1.5 K \n",
       "197 | vit.beit.encoder.layer.9.drop_path                                   | BeitDropPath               | 0     \n",
       "198 | vit.beit.encoder.layer.9.layernorm_after                             | LayerNorm                  | 1.5 K \n",
       "199 | vit.beit.encoder.layer.10                                            | BeitLayer                  | 7.1 M \n",
       "200 | vit.beit.encoder.layer.10.attention                                  | BeitAttention              | 2.4 M \n",
       "201 | vit.beit.encoder.layer.10.attention.attention                        | BeitSelfAttention          | 1.8 M \n",
       "202 | vit.beit.encoder.layer.10.attention.attention.query                  | Linear                     | 590 K \n",
       "203 | vit.beit.encoder.layer.10.attention.attention.key                    | Linear                     | 589 K \n",
       "204 | vit.beit.encoder.layer.10.attention.attention.value                  | Linear                     | 590 K \n",
       "205 | vit.beit.encoder.layer.10.attention.attention.dropout                | Dropout                    | 0     \n",
       "206 | vit.beit.encoder.layer.10.attention.attention.relative_position_bias | BeitRelativePositionBias   | 8.8 K \n",
       "207 | vit.beit.encoder.layer.10.attention.output                           | BeitSelfOutput             | 590 K \n",
       "208 | vit.beit.encoder.layer.10.attention.output.dense                     | Linear                     | 590 K \n",
       "209 | vit.beit.encoder.layer.10.attention.output.dropout                   | Dropout                    | 0     \n",
       "210 | vit.beit.encoder.layer.10.intermediate                               | BeitIntermediate           | 2.4 M \n",
       "211 | vit.beit.encoder.layer.10.intermediate.dense                         | Linear                     | 2.4 M \n",
       "212 | vit.beit.encoder.layer.10.output                                     | BeitOutput                 | 2.4 M \n",
       "213 | vit.beit.encoder.layer.10.output.dense                               | Linear                     | 2.4 M \n",
       "214 | vit.beit.encoder.layer.10.output.dropout                             | Dropout                    | 0     \n",
       "215 | vit.beit.encoder.layer.10.layernorm_before                           | LayerNorm                  | 1.5 K \n",
       "216 | vit.beit.encoder.layer.10.drop_path                                  | BeitDropPath               | 0     \n",
       "217 | vit.beit.encoder.layer.10.layernorm_after                            | LayerNorm                  | 1.5 K \n",
       "218 | vit.beit.encoder.layer.11                                            | BeitLayer                  | 7.1 M \n",
       "219 | vit.beit.encoder.layer.11.attention                                  | BeitAttention              | 2.4 M \n",
       "220 | vit.beit.encoder.layer.11.attention.attention                        | BeitSelfAttention          | 1.8 M \n",
       "221 | vit.beit.encoder.layer.11.attention.attention.query                  | Linear                     | 590 K \n",
       "222 | vit.beit.encoder.layer.11.attention.attention.key                    | Linear                     | 589 K \n",
       "223 | vit.beit.encoder.layer.11.attention.attention.value                  | Linear                     | 590 K \n",
       "224 | vit.beit.encoder.layer.11.attention.attention.dropout                | Dropout                    | 0     \n",
       "225 | vit.beit.encoder.layer.11.attention.attention.relative_position_bias | BeitRelativePositionBias   | 8.8 K \n",
       "226 | vit.beit.encoder.layer.11.attention.output                           | BeitSelfOutput             | 590 K \n",
       "227 | vit.beit.encoder.layer.11.attention.output.dense                     | Linear                     | 590 K \n",
       "228 | vit.beit.encoder.layer.11.attention.output.dropout                   | Dropout                    | 0     \n",
       "229 | vit.beit.encoder.layer.11.intermediate                               | BeitIntermediate           | 2.4 M \n",
       "230 | vit.beit.encoder.layer.11.intermediate.dense                         | Linear                     | 2.4 M \n",
       "231 | vit.beit.encoder.layer.11.output                                     | BeitOutput                 | 2.4 M \n",
       "232 | vit.beit.encoder.layer.11.output.dense                               | Linear                     | 2.4 M \n",
       "233 | vit.beit.encoder.layer.11.output.dropout                             | Dropout                    | 0     \n",
       "234 | vit.beit.encoder.layer.11.layernorm_before                           | LayerNorm                  | 1.5 K \n",
       "235 | vit.beit.encoder.layer.11.drop_path                                  | BeitDropPath               | 0     \n",
       "236 | vit.beit.encoder.layer.11.layernorm_after                            | LayerNorm                  | 1.5 K \n",
       "237 | vit.beit.layernorm                                                   | Identity                   | 0     \n",
       "238 | vit.beit.pooler                                                      | BeitPooler                 | 1.5 K \n",
       "239 | vit.beit.pooler.layernorm                                            | LayerNorm                  | 1.5 K \n",
       "240 | vit.classifier                                                       | Linear                     | 3.8 K \n",
       "----------------------------------------------------------------------------------------------------------------------\n",
       "85.8 M    Trainable params\n",
       "0         Non-trainable params\n",
       "85.8 M    Total params\n",
       "343.063   Total estimated model params size (MB)"
      ]
     },
     "execution_count": 14,
     "metadata": {},
     "output_type": "execute_result"
    }
   ],
   "source": [
    "import pytorch_lightning\n",
    "pytorch_lightning.utilities.model_summary.ModelSummary(model, max_depth=-1)"
   ]
  },
  {
   "cell_type": "code",
   "execution_count": 15,
   "metadata": {},
   "outputs": [
    {
     "name": "stderr",
     "output_type": "stream",
     "text": [
      "Some weights of BeitForImageClassification were not initialized from the model checkpoint at microsoft/beit-base-patch16-224 and are newly initialized because the shapes did not match:\n",
      "- classifier.weight: found shape torch.Size([1000, 768]) in the checkpoint and torch.Size([5, 768]) in the model instantiated\n",
      "- classifier.bias: found shape torch.Size([1000]) in the checkpoint and torch.Size([5]) in the model instantiated\n",
      "You should probably TRAIN this model on a down-stream task to be able to use it for predictions and inference.\n",
      "GPU available: True (cuda), used: True\n",
      "TPU available: False, using: 0 TPU cores\n",
      "IPU available: False, using: 0 IPUs\n",
      "HPU available: False, using: 0 HPUs\n",
      "LOCAL_RANK: 0 - CUDA_VISIBLE_DEVICES: [0]\n",
      "c:\\Users\\zacha\\anaconda3\\envs\\ML_env_pytorch\\lib\\site-packages\\transformers\\optimization.py:306: FutureWarning: This implementation of AdamW is deprecated and will be removed in a future version. Use the PyTorch implementation torch.optim.AdamW instead, or set `no_deprecation_warning=True` to disable this warning\n",
      "  warnings.warn(\n",
      "\n",
      "  | Name | Type                       | Params\n",
      "----------------------------------------------------\n",
      "0 | vit  | BeitForImageClassification | 85.8 M\n",
      "----------------------------------------------------\n",
      "85.8 M    Trainable params\n",
      "0         Non-trainable params\n",
      "85.8 M    Total params\n",
      "343.063   Total estimated model params size (MB)\n"
     ]
    },
    {
     "name": "stdout",
     "output_type": "stream",
     "text": [
      "Sanity Checking DataLoader 0:   0%|          | 0/2 [00:00<?, ?it/s]"
     ]
    },
    {
     "name": "stderr",
     "output_type": "stream",
     "text": [
      "c:\\Users\\zacha\\anaconda3\\envs\\ML_env_pytorch\\lib\\site-packages\\pytorch_lightning\\trainer\\connectors\\data_connector.py:236: PossibleUserWarning: The dataloader, val_dataloader 0, does not have many workers which may be a bottleneck. Consider increasing the value of the `num_workers` argument` (try 16 which is the number of cpus on this machine) in the `DataLoader` init to improve performance.\n",
      "  rank_zero_warn(\n"
     ]
    },
    {
     "name": "stdout",
     "output_type": "stream",
     "text": [
      "                                                                           "
     ]
    },
    {
     "name": "stderr",
     "output_type": "stream",
     "text": [
      "c:\\Users\\zacha\\anaconda3\\envs\\ML_env_pytorch\\lib\\site-packages\\pytorch_lightning\\trainer\\connectors\\data_connector.py:236: PossibleUserWarning: The dataloader, train_dataloader, does not have many workers which may be a bottleneck. Consider increasing the value of the `num_workers` argument` (try 16 which is the number of cpus on this machine) in the `DataLoader` init to improve performance.\n",
      "  rank_zero_warn(\n"
     ]
    },
    {
     "name": "stdout",
     "output_type": "stream",
     "text": [
      "Epoch 0: 100%|██████████| 397/397 [00:51<00:00,  7.69it/s, loss=0.327, v_num=15]"
     ]
    },
    {
     "name": "stderr",
     "output_type": "stream",
     "text": [
      "Metric validation_loss improved. New best score: 0.863\n"
     ]
    },
    {
     "name": "stdout",
     "output_type": "stream",
     "text": [
      "Epoch 1: 100%|██████████| 397/397 [00:51<00:00,  7.71it/s, loss=0.253, v_num=15]"
     ]
    },
    {
     "name": "stderr",
     "output_type": "stream",
     "text": [
      "Metric validation_loss improved by 0.387 >= min_delta = 0.0. New best score: 0.476\n"
     ]
    },
    {
     "name": "stdout",
     "output_type": "stream",
     "text": [
      "Epoch 2:  80%|████████  | 318/397 [00:48<00:12,  6.51it/s, loss=0.237, v_num=15]"
     ]
    }
   ],
   "source": [
    "from sklearn.metrics import confusion_matrix\n",
    "import matplotlib.pyplot as plt\n",
    "import pandas as pd\n",
    "import seaborn as sn\n",
    "import sklearn.metrics\n",
    "import gc\n",
    "from IPython.display import clear_output\n",
    "import glob\n",
    "import sklearn\n",
    "\n",
    "for i in range(0, 100):\n",
    "    model = ViTLightningModule()\n",
    "    trainer = Trainer(accelerator='gpu', devices=1, callbacks=[early_stop_callback],#, checkpoint],\n",
    "        check_val_every_n_epoch=1, \n",
    "        max_epochs=5,\n",
    "        min_epochs=2,\n",
    "        )\n",
    "    trainer.fit(model)\n",
    "\n",
    "    y_pred = []\n",
    "    y_true = []\n",
    "    model.to('cuda')\n",
    "    model.eval()\n",
    "    for batch in test_dataloader:\n",
    "        labels = batch['labels'].to('cuda')\n",
    "        outputs = model(batch['pixel_values'].type('torch.cuda.FloatTensor'))\n",
    "        predictions=np.argmax(outputs.cpu().detach().numpy(), axis=-1)\n",
    "        y_pred.append(predictions)\n",
    "        y_true.append(labels.cpu().detach().numpy())\n",
    "    \n",
    "\n",
    "    y_true_total = []\n",
    "    for i in range(np.shape(y_true)[0]):\n",
    "        for j in range(len(y_true[i])):\n",
    "            y_true_total.append(y_true[i][j])\n",
    "\n",
    "    y_pred_total = []\n",
    "    for i in range(np.shape(y_pred)[0]):\n",
    "        for j in range(len(y_pred[i])):\n",
    "            y_pred_total.append(y_pred[i][j])\n",
    "    \n",
    "\n",
    "\n",
    "    cf_matrix = confusion_matrix(y_true_total, y_pred_total)\n",
    "\n",
    "    df_cm = pd.DataFrame(cf_matrix/np.sum(cf_matrix) *100, index = range(0, 5),\n",
    "                     columns = range(0, 5))\n",
    "\n",
    "    clear_output(wait=True)\n",
    "\n",
    "    \n",
    "    plt.figure(figsize=(5,5))\n",
    "    sn.heatmap(df_cm, annot=True)\n",
    "    #sklearn.metrics.ConfusionMatrixDisplay.from_predictions(y_true_total, y_pred_total, display_labels=[2, 3, 4, 5, 6], cmap='gray', colorbar=False)\n",
    "    plt.title('Exact Match Confusion Matrix')\n",
    "    plt.xlabel('Predicted BCS')\n",
    "    plt.ylabel('True BCS')\n",
    "    plt.show()\n",
    "    # plt.xticks([0, 1, 2, 3, 4], [2, 3, 4, 5, 6])\n",
    "    # plt.yticks([0, 1, 2, 3, 4], [2, 3, 4, 5, 6])\n",
    "\n",
    "\n",
    "\n",
    "    #metrics\n",
    "    accuracy = sklearn.metrics.accuracy_score(y_true_total, y_pred_total)\n",
    "    #print('Model accuarcy is: ', accuracy)\n",
    "    precision = sklearn.metrics.precision_score(y_true_total,y_pred_total, average='macro')\n",
    "    #print('Model precision is: ', precision)\n",
    "\n",
    "    f1_score = sklearn.metrics.f1_score(y_true_total,y_pred_total, average='macro')\n",
    "    #print('Model f1_score is: ', f1_score)\n",
    "\n",
    "    recall = sklearn.metrics.recall_score(y_true_total,y_pred_total, average='macro')\n",
    "    #print('Model recall is: ', recall)\n",
    "\n",
    "    MSE = sklearn.metrics.mean_squared_error(y_true_total,y_pred_total)\n",
    "    #print('Model MSE is: ', MSE)\n",
    "\n",
    "    print('Accuracy: ', round(accuracy, 2), 'Precision: ', round(precision, 2), 'Recall: ', round(recall, 2), 'F1 Score: ', round(f1_score, 2), 'MSE: ', round(MSE, 2))\n",
    "\n",
    "    vit_models = glob.glob('VIT_models\\\\*')\n",
    "    accuracies = []\n",
    "    for name in vit_models:\n",
    "        accuracies.append(float(name[len('VIT_models\\BEiT_'):-len('_0.20.ckpt')]))\n",
    "    \n",
    "    if (accuracy < np.asarray(accuracies)).all():\n",
    "        trainer.save_checkpoint(f\"VIT_models\\BEiT_{round(accuracy, 2)}_{round(MSE, 3)}.ckpt\")\n",
    "\n",
    "\n",
    "    # MSEs = []\n",
    "    # for name in vit_models:\n",
    "    #     MSEs.append(float(name[len('VIT_models\\BEiT_0.44_'):-len('.ckpt')]))\n",
    "    \n",
    "    # if (MSE < np.asarray(MSEs)).all():\n",
    "    #     trainer.save_checkpoint(f\"VIT_models\\BEiT_{round(accuracy, 2)}_{round(MSE, 3)}.ckpt\")\n",
    "\n",
    "    \n",
    "\n",
    "\n",
    "    model.to('cpu')\n",
    "    model = None\n",
    "    trainer = None\n",
    "    del trainer\n",
    "    del model\n",
    "    torch.cuda.empty_cache()\n",
    "\n",
    "    gc.collect()\n",
    "\n",
    "    for obj in gc.get_objects():\n",
    "        try:\n",
    "            if torch.is_tensor(obj) or (hasattr(obj, 'data') and torch.is_tensor(obj.data)):\n",
    "                #print(type(obj), obj.size())\n",
    "                del obj\n",
    "        except:\n",
    "            pass"
   ]
  },
  {
   "cell_type": "code",
   "execution_count": null,
   "metadata": {},
   "outputs": [
    {
     "ename": "SyntaxError",
     "evalue": "'return' outside function (<ipython-input-14-9b32c1431b19>, line 1)",
     "output_type": "error",
     "traceback": [
      "\u001b[1;36m  File \u001b[1;32m\"<ipython-input-14-9b32c1431b19>\"\u001b[1;36m, line \u001b[1;32m1\u001b[0m\n\u001b[1;33m    return\u001b[0m\n\u001b[1;37m    ^\u001b[0m\n\u001b[1;31mSyntaxError\u001b[0m\u001b[1;31m:\u001b[0m 'return' outside function\n"
     ]
    }
   ],
   "source": [
    "return"
   ]
  },
  {
   "cell_type": "code",
   "execution_count": null,
   "metadata": {},
   "outputs": [
    {
     "name": "stderr",
     "output_type": "stream",
     "text": [
      "LOCAL_RANK: 0 - CUDA_VISIBLE_DEVICES: [0]\n",
      "c:\\Users\\zacha\\anaconda3\\envs\\ML_env_pytorch\\lib\\site-packages\\pytorch_lightning\\trainer\\connectors\\data_connector.py:236: PossibleUserWarning: The dataloader, test_dataloader 0, does not have many workers which may be a bottleneck. Consider increasing the value of the `num_workers` argument` (try 16 which is the number of cpus on this machine) in the `DataLoader` init to improve performance.\n",
      "  rank_zero_warn(\n"
     ]
    },
    {
     "name": "stdout",
     "output_type": "stream",
     "text": [
      "Testing DataLoader 0: 100%|██████████| 95/95 [00:08<00:00, 11.33it/s]\n",
      "────────────────────────────────────────────────────────────────────────────────────────────────────────────────────────\n",
      "       Test metric             DataLoader 0\n",
      "────────────────────────────────────────────────────────────────────────────────────────────────────────────────────────\n",
      "      test_accuracy         0.46710526943206787\n",
      "        test_loss            3.19035267829895\n",
      "────────────────────────────────────────────────────────────────────────────────────────────────────────────────────────\n"
     ]
    },
    {
     "data": {
      "text/plain": [
       "[{'test_loss': 3.19035267829895, 'test_accuracy': 0.46710526943206787}]"
      ]
     },
     "execution_count": 14,
     "metadata": {},
     "output_type": "execute_result"
    }
   ],
   "source": [
    "trainer.test(model=model, dataloaders=test_dataloader, verbose=True)\n",
    "\n",
    "\n",
    "#trainer.test(model=model, dataloaders=val_dataloader, verbose=True)"
   ]
  },
  {
   "cell_type": "code",
   "execution_count": null,
   "metadata": {},
   "outputs": [],
   "source": [
    "#return"
   ]
  },
  {
   "cell_type": "code",
   "execution_count": null,
   "metadata": {},
   "outputs": [],
   "source": [
    "y_pred = []\n",
    "y_true = []\n",
    "model.to('cuda')\n",
    "model.eval()\n",
    "for batch in test_dataloader:\n",
    "    labels = batch['labels'].to('cuda')\n",
    "    outputs = model(batch['pixel_values'].type('torch.cuda.FloatTensor'))\n",
    "    predictions=np.argmax(outputs.cpu().detach().numpy(), axis=-1)\n",
    "    y_pred.append(predictions)\n",
    "    y_true.append(labels.cpu().detach().numpy())\n",
    "    #metric.add_batch(predictions=predictions, references=labels)"
   ]
  },
  {
   "cell_type": "code",
   "execution_count": null,
   "metadata": {},
   "outputs": [
    {
     "name": "stdout",
     "output_type": "stream",
     "text": [
      "760\n",
      "760\n",
      "95\n",
      "95\n"
     ]
    }
   ],
   "source": [
    "y_true_total = []\n",
    "for i in range(np.shape(y_true)[0]):\n",
    "    for j in range(len(y_true[i])):\n",
    "        y_true_total.append(y_true[i][j])\n",
    "\n",
    "y_pred_total = []\n",
    "for i in range(np.shape(y_pred)[0]):\n",
    "    for j in range(len(y_pred[i])):\n",
    "        y_pred_total.append(y_pred[i][j])\n",
    "\n",
    "print(len(y_pred_total))\n",
    "print(len(y_true_total))\n",
    "\n",
    "print(np.shape(y_pred)[0])\n",
    "print(np.shape(y_true)[0])"
   ]
  },
  {
   "cell_type": "code",
   "execution_count": null,
   "metadata": {},
   "outputs": [
    {
     "data": {
      "image/png": "[encoded data removed]",
      "text/plain": [
       "<Figure size 1440x1440 with 2 Axes>"
      ]
     },
     "metadata": {
      "needs_background": "light"
     },
     "output_type": "display_data"
    },
    {
     "name": "stdout",
     "output_type": "stream",
     "text": [
      "Model accuarcy is:  0.46710526315789475\n",
      "Model precision is:  0.34222556390977443\n",
      "Model f1_score is:  0.27463251355085927\n",
      "Model recall is:  0.2564007800199439\n",
      "Model MSE is:  1.0223684210526316\n",
      "Confusion Matrix\n",
      "[[  0   0  16   0   0]\n",
      " [  0  20  33   0   1]\n",
      " [  0   5 322  38  12]\n",
      " [ 23   3  37   0  24]\n",
      " [  0   0  29 184  13]]\n"
     ]
    }
   ],
   "source": [
    "from sklearn.metrics import confusion_matrix\n",
    "import matplotlib.pyplot as plt\n",
    "import pandas as pd\n",
    "import seaborn as sn\n",
    "import sklearn.metrics\n",
    "\n",
    "\n",
    "cf_matrix = confusion_matrix(y_true_total, y_pred_total)\n",
    "\n",
    "df_cm = pd.DataFrame(cf_matrix/np.sum(cf_matrix) *100, index = range(0, 5),\n",
    "                     columns = range(0, 5))\n",
    "\n",
    "\n",
    "plt.figure(figsize=(20,20))\n",
    "sn.heatmap(df_cm, annot=True)\n",
    "#sklearn.metrics.ConfusionMatrixDisplay.from_predictions(y_true_total, y_pred_total, display_labels=[2, 3, 4, 5, 6], cmap='gray', colorbar=False)\n",
    "plt.title('Exact Match Confusion Matrix')\n",
    "plt.xlabel('Predicted BCS')\n",
    "plt.ylabel('True BCS')\n",
    "plt.show()\n",
    "# plt.xticks([0, 1, 2, 3, 4], [2, 3, 4, 5, 6])\n",
    "# plt.yticks([0, 1, 2, 3, 4], [2, 3, 4, 5, 6])\n",
    "\n",
    "\n",
    "\n",
    "import sklearn\n",
    "#metrics\n",
    "accuarcy = sklearn.metrics.accuracy_score(y_true_total, y_pred_total)\n",
    "print('Model accuarcy is: ', accuarcy)\n",
    "precision = sklearn.metrics.precision_score(y_true_total,y_pred_total, average='macro')\n",
    "print('Model precision is: ', precision)\n",
    "\n",
    "f1_score = sklearn.metrics.f1_score(y_true_total,y_pred_total, average='macro')\n",
    "print('Model f1_score is: ', f1_score)\n",
    "\n",
    "recall = sklearn.metrics.recall_score(y_true_total,y_pred_total, average='macro')\n",
    "print('Model recall is: ', recall)\n",
    "\n",
    "MSE = sklearn.metrics.mean_squared_error(y_true_total,y_pred_total)\n",
    "print('Model MSE is: ', MSE)\n",
    "\n",
    "print(\"Confusion Matrix\")\n",
    "print(cf_matrix)"
   ]
  },
  {
   "cell_type": "code",
   "execution_count": null,
   "metadata": {},
   "outputs": [
    {
     "name": "stdout",
     "output_type": "stream",
     "text": [
      "The accuracy of the network model2 is:  0.8894736842105263\n",
      "Model unweighted precision is:  0.7549535423925668\n",
      "Model weighted precision is:  0.9022876551133933\n",
      "\n",
      "Model unweighted recall is:  0.7044964167942502\n",
      "Model weighted recall is:  0.8894736842105263\n",
      "\n",
      "Model unweighted f1_score is:  0.7238406949986167\n",
      "Model weighted f1_score is:  0.891680239636087\n",
      "\n",
      "Confusion Matrix\n",
      "[[  0   0  16   0   0]\n",
      " [  0  53   0   0   1]\n",
      " [  0   0 365   0  12]\n",
      " [ 23   3   0  61   0]\n",
      " [  0   0  29   0 197]]\n"
     ]
    },
    {
     "data": {
      "image/png": "[encoded data removed]",
      "text/plain": [
       "<Figure size 720x720 with 2 Axes>"
      ]
     },
     "metadata": {
      "needs_background": "light"
     },
     "output_type": "display_data"
    }
   ],
   "source": [
    "y_within_1 = []\n",
    "for i in range(0, len(y_true_total)):\n",
    "    if ((y_pred_total[i] == y_true_total[i]+1) or (y_pred_total[i] == y_true_total[i]-1) or (y_pred_total[i] == y_true_total[i])):\n",
    "        y_within_1.append(y_true_total[i])\n",
    "    else:\n",
    "        y_within_1.append(y_pred_total[i])\n",
    "\n",
    "# print(y_within_1)\n",
    "# print(type(y_within_1[20]))\n",
    "# print(type(y_true_total[0]))\n",
    "\n",
    "\n",
    "cf_matrix = confusion_matrix(y_true_total, y_within_1)\n",
    "\n",
    "df_cm = pd.DataFrame(cf_matrix/np.sum(cf_matrix) *100, index = range(0, 5),\n",
    "                     columns = range(0, 5))\n",
    "\n",
    "\n",
    "plt.figure(figsize=(10,10))\n",
    "sn.heatmap(df_cm, annot=True)\n",
    "plt.title('Within One Confusion Matrix')\n",
    "plt.xlabel('Predicted BCS')\n",
    "plt.ylabel('True BCS')\n",
    "\n",
    "\n",
    "con_matrix = sklearn.metrics.confusion_matrix(y_true_total,y_within_1)\n",
    "acc=np.diag(con_matrix).sum().astype(float)/con_matrix.sum()\n",
    "\n",
    "\n",
    "print('The accuracy of the network model2 is: ', acc)\n",
    "\n",
    "min = np.min(con_matrix)\n",
    "max = np.max(con_matrix)\n",
    "temp_mat = con_matrix - min\n",
    "temp_mat = con_matrix/max\n",
    "\n",
    "#Metrics\n",
    "precision = sklearn.metrics.precision_score(y_true_total,y_within_1, average='macro')\n",
    "print('Model unweighted precision is: ', precision)\n",
    "precision = sklearn.metrics.precision_score(y_true_total,y_within_1, average='weighted')\n",
    "print('Model weighted precision is: ', precision)\n",
    "print()\n",
    "\n",
    "#print('Avg :', sklearn.metrics.accuracy_score(y_test, y_test_hat, normalize=False))\n",
    "\n",
    "recall = sklearn.metrics.recall_score(y_true_total,y_within_1, average='macro')\n",
    "print('Model unweighted recall is: ', recall)\n",
    "recall = sklearn.metrics.recall_score(y_true_total,y_within_1, average='weighted')\n",
    "print('Model weighted recall is: ', recall)\n",
    "print()\n",
    "\n",
    "f1_score = sklearn.metrics.f1_score(y_true_total,y_within_1, average='macro')\n",
    "print('Model unweighted f1_score is: ', f1_score)\n",
    "f1_score = sklearn.metrics.f1_score(y_true_total,y_within_1, average='weighted')\n",
    "print('Model weighted f1_score is: ', f1_score)\n",
    "print()\n",
    "\n",
    "\n",
    "print(\"Confusion Matrix\")\n",
    "print(con_matrix)"
   ]
  },
  {
   "cell_type": "code",
   "execution_count": null,
   "metadata": {},
   "outputs": [],
   "source": [
    "#torch.save(model, 'VIT_models\\BEiT_42.pt')\n",
    "# torch.save(\n",
    "#     model.state_dict(),\n",
    "#     'VIT_models\\BEiT_42.pt'\n",
    "# )"
   ]
  },
  {
   "cell_type": "code",
   "execution_count": null,
   "metadata": {},
   "outputs": [],
   "source": [
    "#trainer.save_checkpoint(\"VIT_models\\BEiT_64_keep.ckpt\")"
   ]
  },
  {
   "cell_type": "code",
   "execution_count": null,
   "metadata": {},
   "outputs": [],
   "source": [
    "# new_model = ViTLightningModule.load_from_checkpoint(checkpoint_path=\"VIT_models\\BEiT_64_keep.ckpt\")\n",
    "# trainer.test(model=new_model, dataloaders=test_dataloader, verbose=True)"
   ]
  }
 ],
 "metadata": {
  "kernelspec": {
   "display_name": "Python 3.8.12 ('ML_env_pytorch')",
   "language": "python",
   "name": "python3"
  },
  "language_info": {
   "codemirror_mode": {
    "name": "ipython",
    "version": 3
   },
   "file_extension": ".py",
   "mimetype": "text/x-python",
   "name": "python",
   "nbconvert_exporter": "python",
   "pygments_lexer": "ipython3",
   "version": "3.8.12"
  },
  "orig_nbformat": 4,
  "vscode": {
   "interpreter": {
    "hash": "c2107e4a676a391af164907120f93cd287ed2c419d0c1d2ead0dc1b99f4b7ffc"
   }
  }
 },
 "nbformat": 4,
 "nbformat_minor": 2
}
