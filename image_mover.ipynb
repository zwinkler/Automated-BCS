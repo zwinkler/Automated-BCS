{
 "cells": [
  {
   "cell_type": "code",
   "execution_count": 8,
   "metadata": {},
   "outputs": [],
   "source": [
    "import os\n",
    "import glob\n",
    "import pandas as pd\n",
    "import shutil\n",
    "\n",
    "for i in range(1, 10):\n",
    "    try:\n",
    "        os.mkdir('DGE_training_mixed/'+str(i))\n",
    "        os.mkdir('DGE_val_mixed/'+str(i))\n",
    "        os.mkdir('DGE_test_mixed/'+str(i))\n",
    "    except:\n",
    "        pass\n",
    "\n",
    "\n",
    "\n",
    "train_df = pd.read_csv('train_data_mixed.csv',dtype=str)\n",
    "val_df = pd.read_csv('val_data_mixed.csv',dtype=str)\n",
    "test_df = pd.read_csv('test_data_mixed.csv',dtype=str)\n",
    "\n",
    "for i in range(0, len(train_df['filename'])):\n",
    "    # image_name = train_df['filenames'][i]\n",
    "    # image_name = image_name.replace(\"/\"+)\n",
    "    shutil.copyfile(train_df['filename'][i], 'DGE_training_mixed/'+train_df['class'][i]+'/'+str(i)+'_DGE.tif')\n",
    "\n",
    "for i in range(0, len(val_df['filename'])):\n",
    "    # image_name = train_df['filenames'][i]\n",
    "    # image_name = image_name.replace(\"/\"+)\n",
    "    shutil.copyfile(val_df['filename'][i], 'DGE_val_mixed/'+val_df['class'][i]+'/'+str(i)+'_DGE.tif')\n",
    "\n",
    "for i in range(0, len(test_df['filename'])):\n",
    "    # image_name = train_df['filenames'][i]\n",
    "    # image_name = image_name.replace(\"/\"+)\n",
    "    shutil.copyfile(test_df['filename'][i], 'DGE_test_mixed/'+test_df['class'][i]+'/'+str(i)+'_DGE.tif')"
   ]
  }
 ],
 "metadata": {
  "kernelspec": {
   "display_name": "Python 3.8.5 ('base')",
   "language": "python",
   "name": "python3"
  },
  "language_info": {
   "codemirror_mode": {
    "name": "ipython",
    "version": 3
   },
   "file_extension": ".py",
   "mimetype": "text/x-python",
   "name": "python",
   "nbconvert_exporter": "python",
   "pygments_lexer": "ipython3",
   "version": "3.8.5"
  },
  "orig_nbformat": 4,
  "vscode": {
   "interpreter": {
    "hash": "b70492cf92a1f78fc18b7684d71bbc4f8886ffb7e78a5e47686b46a1a93e069b"
   }
  }
 },
 "nbformat": 4,
 "nbformat_minor": 2
}
