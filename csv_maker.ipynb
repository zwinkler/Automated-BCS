{
 "cells": [
  {
   "cell_type": "code",
   "execution_count": 4,
   "metadata": {},
   "outputs": [],
   "source": [
    "import csv\n",
    "import glob\n",
    "import random\n",
    "import os\n",
    "\n",
    "directory = 'BCS_aligned_sorted_HDV'\n",
    "\n",
    "filenames_total = glob.glob(directory+'\\\\*\\\\*\\\\*')\n",
    "filenames_color = []\n",
    "train_names = []\n",
    "test_names = []\n",
    "val_names = []\n",
    "\n",
    "\n",
    "for i in range(0,10):\n",
    "    #class_files = []\n",
    "    class_files = glob.glob(f\"{directory}\\\\{i}\\\\*\\\\*\")\n",
    "    # class_files_total = glob.glob(f\"{directory}\\\\{i}\\\\*\\\\*\")\n",
    "    # for file in class_files_total:\n",
    "    #     if file.endswith('_C.tif'):\n",
    "    #         class_files.append(file)\n",
    "    #print(class_files)\n",
    "    #random.shuffle(class_files)\n",
    "    train_len = int(len(class_files)*0.8)\n",
    "    # if train_len == 0:\n",
    "    #     train_len == 1\n",
    "    # test_len = int(len(class_files)*0.1)\n",
    "    # if test_len == 0:\n",
    "    #     test_len == 1\n",
    "    #val_len = int(len(class_files)*0.1)\n",
    "    val_len = int(len(class_files)*0.2)\n",
    "    # if val_len == 0:\n",
    "    #     val_len == 1 \n",
    "    for j in range(train_len):\n",
    "        train_names.append(class_files[j])\n",
    "    # for j in range(train_len, train_len+test_len):\n",
    "    #     test_names.append(class_files[j])\n",
    "    # for j in range(train_len+test_len, train_len+test_len+val_len):\n",
    "    #     val_names.append(class_files[j])\n",
    "    for j in range(train_len, train_len+val_len):\n",
    "        val_names.append(class_files[j])\n",
    "\n",
    "\n",
    "classes_train = []\n",
    "for i in range(0, len(train_names)):\n",
    "    #for j in range(0, len(train_names[i])):\n",
    "        # train_names[i][j] = train_names[i][j] + ','+str(train_names[i][j][len('BCS_sorted_HDV/'):len('BCS_sorted_HDV/1')])\n",
    "    #classes_train.append(str(train_names[i][j][len('BCS_sorted_HDV/'):len('BCS_sorted_HDV/1')]))\n",
    "    classes_train.append(str(train_names[i][len(directory+'/'):len(directory+'/1')]))\n",
    "\n",
    " \n",
    "\n",
    "# classes_test = []\n",
    "# for i in range(0, len(test_names)):\n",
    "#     #for j in range(0, len(test_names[i])):\n",
    "#         #test_names[i][j] = test_names[i][j] + ','+str(test_names[i][j][len('BCS_sorted_HDV/'):len('BCS_sorted_HDV/1')])\n",
    "#     #classes_test.append(str(test_names[i][j][len('BCS_sorted_HDV/'):len('BCS_sorted_HDV/1')]))\n",
    "#     classes_test.append(str(test_names[i][len(directory+'/'):len(directory+'/1')]))\n",
    "\n",
    "classes_val = []\n",
    "for i in range(0, len(val_names)):\n",
    "    #for j in range(0, len(val_names[i])):\n",
    "        #val_names[i][j] = val_names[i][j] + ','+str(val_names[i][j][len('BCS_sorted_HDV/'):len('BCS_sorted_HDV/1')])\n",
    "    #classes_val.append(str(val_names[i][j][len('BCS_sorted_HDV/'):len('BCS_sorted_HDV/1')]))\n",
    "    classes_val.append(str(val_names[i][len(directory+'/'):len(directory+'/1')]))\n",
    "\n",
    "#print(filenames_total)  \n",
    "\n",
    "# print(train_names[0])\n",
    "\n",
    "# with open('train_data.csv', 'w') as csv_file:\n",
    "#     train_csv = csv.writer(csv_file, quoting=csv.QUOTE_NONE, escapechar='|')\n",
    "#     train_csv.writerow(['filename|, class'])\n",
    "#     for i in range(2,7):\n",
    "#         for j in range(0, len(train_names[i])):\n",
    "#             train_csv.writerow([train_names[i][j]+'|, '+str(i)])\n",
    "\n",
    "# with open('test_data.csv', 'w') as csv_file:\n",
    "#     test_csv = csv.writer(csv_file, quoting=csv.QUOTE_NONE)\n",
    "#     test_csv.writerow(['filename, class'])\n",
    "#     for i in range(2,7):\n",
    "#         for j in range(0, len(test_names[i])):\n",
    "#             train_csv = csv.writer(csv_file)\n",
    "#             train_csv.writerow([test_names[i][j]+', '+str(i)])\n",
    "\n",
    "# with open('val_data.csv', 'w') as csv_file:\n",
    "#     val_csv = csv.writer(csv_file, quoting=csv.QUOTE_NONE)\n",
    "#     val_csv.writerow(['filename, class'])\n",
    "#     for i in range(2,7):\n",
    "#         for j in range(0, len(val_names[i])):\n",
    "#             train_csv = csv.writer(csv_file)\n",
    "#             train_csv.writerow([val_names[i][j]+', '+str(i)])\n",
    "\n",
    "\n",
    "\n"
   ]
  },
  {
   "cell_type": "code",
   "execution_count": null,
   "metadata": {},
   "outputs": [],
   "source": [
    "\n",
    "         when PN_Diff =>\n",
    "            if PN_Diff_addr_reg < 2048 then\n",
    "               PN_Diff_addr_reg <= PN_Diff_addr_next;\n",
    "            else\n",
    "               state_next <= wait_done;\n",
    "            end if;"
   ]
  },
  {
   "cell_type": "code",
   "execution_count": 5,
   "metadata": {},
   "outputs": [
    {
     "name": "stdout",
     "output_type": "stream",
     "text": [
      "['2', '2', '2', '2', '2', '2', '2', '2', '2', '2', '2', '2', '2', '2', '2', '2', '2', '2', '2', '2', '2', '2', '2', '2', '2', '2', '2', '2', '2', '3', '3', '3', '3', '3', '3', '3', '3', '3', '3', '3', '3', '3', '3', '3', '3', '3', '3', '3', '3', '3', '3', '3', '3', '3', '3', '3', '3', '3', '3', '3', '3', '3', '3', '3', '3', '3', '3', '3', '3', '3', '3', '3', '3', '3', '3', '3', '3', '3', '3', '3', '3', '3', '3', '3', '3', '3', '3', '3', '3', '3', '3', '3', '3', '3', '3', '3', '3', '3', '3', '3', '3', '3', '3', '3', '3', '3', '3', '3', '3', '3', '3', '3', '3', '3', '3', '3', '3', '3', '3', '3', '3', '3', '3', '3', '3', '3', '3', '3', '3', '3', '3', '3', '3', '3', '3', '3', '3', '3', '3', '3', '3', '3', '3', '3', '3', '3', '3', '3', '3', '3', '3', '3', '3', '3', '3', '3', '3', '3', '3', '3', '4', '4', '4', '4', '4', '4', '4', '4', '4', '4', '4', '4', '4', '4', '4', '4', '4', '4', '4', '4', '4', '4', '4', '4', '4', '4', '4', '4', '4', '4', '4', '4', '4', '4', '4', '4', '4', '4', '4', '4', '4', '4', '4', '4', '4', '4', '4', '4', '4', '4', '4', '4', '4', '4', '4', '4', '4', '4', '4', '4', '4', '4', '4', '4', '4', '4', '4', '4', '4', '4', '4', '4', '4', '4', '4', '4', '4', '4', '4', '4', '4', '4', '4', '4', '4', '4', '4', '4', '4', '4', '4', '4', '4', '4', '4', '4', '4', '4', '4', '4', '4', '4', '4', '4', '4', '4', '4', '4', '4', '4', '4', '4', '4', '4', '4', '4', '4', '4', '4', '4', '4', '4', '5', '5', '5', '5', '5', '5', '5', '5', '5', '5', '5', '5', '5', '5', '5', '5', '5', '5', '5', '5', '5', '5', '5', '5', '5', '5', '5', '5', '5', '5', '5', '5', '5', '5', '5', '5', '5', '5', '5', '5', '5', '5', '5', '5', '5', '5', '5', '5', '5', '5', '5', '5', '5', '5', '5', '5', '5', '5', '5', '5', '5', '5', '5', '5', '5', '5', '5', '5', '5', '5', '5', '5', '5', '5', '5', '5', '5', '5', '5', '5', '5', '5', '5', '5', '5', '5', '5', '5', '5', '5', '5', '5', '5', '5', '5', '5', '5', '5', '6', '6', '6', '6', '6', '6', '6', '6', '6', '6', '6', '6', '6', '6', '6', '6', '6', '6', '6', '6', '6', '6', '6', '6', '6', '6', '6', '6', '6', '6', '6', '6', '6', '6', '6', '6', '6', '6', '6', '6', '6', '6', '6', '6', '6', '6', '6', '6', '6', '6', '6', '6', '6', '6', '6', '6', '6', '6', '6', '6', '6', '6', '6', '6']\n"
     ]
    }
   ],
   "source": [
    "test_names = glob.glob('BCS_test_only\\\\*\\\\*\\\\*')\n",
    "#random.shuffle(test_names)\n",
    "classes_test = []\n",
    "for name in test_names:\n",
    "    classes_test.append(str(name[len('BCS_test_only/'):len('BCS_test_only'+'/1')]))\n",
    "\n",
    "print(classes_test)"
   ]
  },
  {
   "cell_type": "code",
   "execution_count": 19,
   "metadata": {},
   "outputs": [],
   "source": [
    "#print(np.reshape(val_names, (len(val_names), 1)))\n",
    "#print(test_names)\n",
    "# print(classes_test)\n",
    "# print(str(train_names[0][len('BCS_sorted_HDV/'):len('BCS_sorted_HDV/1')]))\n",
    "# print(train_len)"
   ]
  },
  {
   "cell_type": "code",
   "execution_count": 6,
   "metadata": {},
   "outputs": [
    {
     "name": "stdout",
     "output_type": "stream",
     "text": [
      "                                         filename class\n",
      "0     BCS_aligned_sorted_HDV\\2\\Cow_11\\100_HDV.tif     2\n",
      "1     BCS_aligned_sorted_HDV\\2\\Cow_11\\101_HDV.tif     2\n",
      "2     BCS_aligned_sorted_HDV\\2\\Cow_11\\102_HDV.tif     2\n",
      "3     BCS_aligned_sorted_HDV\\2\\Cow_11\\103_HDV.tif     2\n",
      "4     BCS_aligned_sorted_HDV\\2\\Cow_11\\104_HDV.tif     2\n",
      "...                                           ...   ...\n",
      "3888  BCS_aligned_sorted_HDV\\6\\Cow_18\\199_HDV.tif     6\n",
      "3889  BCS_aligned_sorted_HDV\\6\\Cow_18\\200_HDV.tif     6\n",
      "3890  BCS_aligned_sorted_HDV\\6\\Cow_18\\201_HDV.tif     6\n",
      "3891  BCS_aligned_sorted_HDV\\6\\Cow_18\\202_HDV.tif     6\n",
      "3892  BCS_aligned_sorted_HDV\\6\\Cow_18\\203_HDV.tif     6\n",
      "\n",
      "[3893 rows x 2 columns]\n",
      "                               filename class\n",
      "0       BCS_test_only\\2\\Cow_5\\0_HDV.tif     2\n",
      "1      BCS_test_only\\2\\Cow_5\\10_HDV.tif     2\n",
      "2      BCS_test_only\\2\\Cow_5\\11_HDV.tif     2\n",
      "3      BCS_test_only\\2\\Cow_5\\12_HDV.tif     2\n",
      "4      BCS_test_only\\2\\Cow_5\\13_HDV.tif     2\n",
      "..                                  ...   ...\n",
      "439  BCS_test_only\\6\\Cow_40\\192_HDV.tif     6\n",
      "440  BCS_test_only\\6\\Cow_40\\193_HDV.tif     6\n",
      "441  BCS_test_only\\6\\Cow_40\\194_HDV.tif     6\n",
      "442  BCS_test_only\\6\\Cow_40\\195_HDV.tif     6\n",
      "443  BCS_test_only\\6\\Cow_40\\196_HDV.tif     6\n",
      "\n",
      "[444 rows x 2 columns]\n",
      "                                        filename class\n",
      "0    BCS_aligned_sorted_HDV\\2\\Cow_46\\313_HDV.tif     2\n",
      "1    BCS_aligned_sorted_HDV\\2\\Cow_46\\314_HDV.tif     2\n",
      "2    BCS_aligned_sorted_HDV\\2\\Cow_46\\315_HDV.tif     2\n",
      "3    BCS_aligned_sorted_HDV\\2\\Cow_46\\316_HDV.tif     2\n",
      "4    BCS_aligned_sorted_HDV\\2\\Cow_46\\317_HDV.tif     2\n",
      "..                                           ...   ...\n",
      "966   BCS_aligned_sorted_HDV\\6\\Cow_52\\79_HDV.tif     6\n",
      "967   BCS_aligned_sorted_HDV\\6\\Cow_52\\80_HDV.tif     6\n",
      "968   BCS_aligned_sorted_HDV\\6\\Cow_52\\81_HDV.tif     6\n",
      "969   BCS_aligned_sorted_HDV\\6\\Cow_52\\82_HDV.tif     6\n",
      "970   BCS_aligned_sorted_HDV\\6\\Cow_52\\83_HDV.tif     6\n",
      "\n",
      "[971 rows x 2 columns]\n"
     ]
    }
   ],
   "source": [
    "import pandas as pd\n",
    "import numpy as np\n",
    "\n",
    "\n",
    "df_dict = {\"filename\": train_names, \"class\": classes_train} \n",
    "train_df = pd.DataFrame(df_dict)\n",
    "print(train_df)\n",
    "train_df.to_csv('train_data.csv', index=False)\n",
    "\n",
    "df_dict = {\"filename\": test_names, \"class\": classes_test} \n",
    "test_df = pd.DataFrame(df_dict)\n",
    "print(test_df)\n",
    "test_df.to_csv('test_data.csv', index=False)\n",
    "\n",
    "df_dict = {\"filename\": val_names, \"class\": classes_val} \n",
    "val_df = pd.DataFrame(df_dict)\n",
    "print(val_df)\n",
    "val_df.to_csv('val_data.csv', index=False)"
   ]
  },
  {
   "cell_type": "code",
   "execution_count": 21,
   "metadata": {},
   "outputs": [
    {
     "name": "stdout",
     "output_type": "stream",
     "text": [
      "BCS_aligned_sorted_HDV\\2\\Cow_11\\100_HDV.tif\n"
     ]
    }
   ],
   "source": [
    "print(train_df['filename'][0])\n",
    "\n",
    "for file_train in train_df['filename']:\n",
    "    for file_test in test_df['filename']:\n",
    "        if file_train == file_test:\n",
    "            print(file_train)\n",
    "    for file_val in val_df['filename']:\n",
    "        if file_train == file_val:\n",
    "            print(file_val)\n",
    "\n",
    "for file_test in test_df['filename']:\n",
    "    for file_val in val_df['filename']:\n",
    "        if file_test == file_val:\n",
    "            print(file_test)\n",
    "    "
   ]
  }
 ],
 "metadata": {
  "interpreter": {
   "hash": "dc404dc0b63df88c39027c47408c30396e0b2f9e208cf68d1db3d2cb4c62a149"
  },
  "kernelspec": {
   "display_name": "Python 3.8.5 64-bit ('base': conda)",
   "language": "python",
   "name": "python3"
  },
  "language_info": {
   "codemirror_mode": {
    "name": "ipython",
    "version": 3
   },
   "file_extension": ".py",
   "mimetype": "text/x-python",
   "name": "python",
   "nbconvert_exporter": "python",
   "pygments_lexer": "ipython3",
   "version": "3.8.5"
  },
  "orig_nbformat": 4
 },
 "nbformat": 4,
 "nbformat_minor": 2
}
