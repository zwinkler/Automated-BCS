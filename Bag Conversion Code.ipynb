{
 "cells": [
  {
   "cell_type": "code",
   "execution_count": 1,
   "id": "daily-norman",
   "metadata": {},
   "outputs": [
    {
     "name": "stdout",
     "output_type": "stream",
     "text": [
      "3\n"
     ]
    },
    {
     "ename": "RuntimeError",
     "evalue": "Failed to resolve request. Request to enable_device_from_file(\"Videos\\Videos.zip\") was invalid, Reason: Failed to create ros reader: Error reading version line",
     "output_type": "error",
     "traceback": [
      "\u001b[1;31m---------------------------------------------------------------------------\u001b[0m",
      "\u001b[1;31mRuntimeError\u001b[0m                              Traceback (most recent call last)",
      "\u001b[1;32m<ipython-input-1-732bde12c700>\u001b[0m in \u001b[0;36m<module>\u001b[1;34m\u001b[0m\n\u001b[0;32m     29\u001b[0m     \u001b[0mconfig\u001b[0m\u001b[1;33m.\u001b[0m\u001b[0menable_stream\u001b[0m\u001b[1;33m(\u001b[0m\u001b[0mrs\u001b[0m\u001b[1;33m.\u001b[0m\u001b[0mstream\u001b[0m\u001b[1;33m.\u001b[0m\u001b[0mdepth\u001b[0m\u001b[1;33m,\u001b[0m \u001b[0mrs\u001b[0m\u001b[1;33m.\u001b[0m\u001b[0mformat\u001b[0m\u001b[1;33m.\u001b[0m\u001b[0mz16\u001b[0m\u001b[1;33m,\u001b[0m \u001b[1;36m15\u001b[0m\u001b[1;33m)\u001b[0m\u001b[1;33m\u001b[0m\u001b[1;33m\u001b[0m\u001b[0m\n\u001b[0;32m     30\u001b[0m     \u001b[0mconfig\u001b[0m\u001b[1;33m.\u001b[0m\u001b[0menable_stream\u001b[0m\u001b[1;33m(\u001b[0m\u001b[0mrs\u001b[0m\u001b[1;33m.\u001b[0m\u001b[0mstream\u001b[0m\u001b[1;33m.\u001b[0m\u001b[0mcolor\u001b[0m\u001b[1;33m,\u001b[0m \u001b[0mrs\u001b[0m\u001b[1;33m.\u001b[0m\u001b[0mformat\u001b[0m\u001b[1;33m.\u001b[0m\u001b[0mrgb8\u001b[0m\u001b[1;33m,\u001b[0m \u001b[1;36m15\u001b[0m\u001b[1;33m)\u001b[0m\u001b[1;33m\u001b[0m\u001b[1;33m\u001b[0m\u001b[0m\n\u001b[1;32m---> 31\u001b[1;33m     \u001b[0mprofile\u001b[0m \u001b[1;33m=\u001b[0m \u001b[0mpipeline\u001b[0m\u001b[1;33m.\u001b[0m\u001b[0mstart\u001b[0m\u001b[1;33m(\u001b[0m\u001b[0mconfig\u001b[0m\u001b[1;33m)\u001b[0m\u001b[1;33m\u001b[0m\u001b[1;33m\u001b[0m\u001b[0m\n\u001b[0m\u001b[0;32m     32\u001b[0m \u001b[1;33m\u001b[0m\u001b[0m\n\u001b[0;32m     33\u001b[0m     \u001b[0mprofile\u001b[0m\u001b[1;33m.\u001b[0m\u001b[0mget_device\u001b[0m\u001b[1;33m(\u001b[0m\u001b[1;33m)\u001b[0m\u001b[1;33m.\u001b[0m\u001b[0mas_playback\u001b[0m\u001b[1;33m(\u001b[0m\u001b[1;33m)\u001b[0m\u001b[1;33m.\u001b[0m\u001b[0mset_real_time\u001b[0m\u001b[1;33m(\u001b[0m\u001b[1;32mFalse\u001b[0m\u001b[1;33m)\u001b[0m\u001b[1;33m\u001b[0m\u001b[1;33m\u001b[0m\u001b[0m\n",
      "\u001b[1;31mRuntimeError\u001b[0m: Failed to resolve request. Request to enable_device_from_file(\"Videos\\Videos.zip\") was invalid, Reason: Failed to create ros reader: Error reading version line"
     ]
    }
   ],
   "source": [
    "import open3d as o3d\n",
    "import matplotlib.pyplot as plt\n",
    "import pyrealsense2 as rs\n",
    "import glob\n",
    "import numpy as np\n",
    "import imageio\n",
    "import os\n",
    "\n",
    "try:\n",
    "    os.mkdir('RGB/')\n",
    "    os.mkdir('depth/')\n",
    "except FileExistsError:\n",
    "    pass\n",
    "\n",
    "try:\n",
    "    os.mkdir('depth/')\n",
    "except FileExistsError:\n",
    "    pass\n",
    "\n",
    "\n",
    "video_names = glob.glob('Videos/*')\n",
    "print(len(video_names))\n",
    "n = 1000\n",
    "j = 0\n",
    "for i in range(0, len(video_names)):\n",
    "    pipeline = rs.pipeline()\n",
    "    config = rs.config()\n",
    "    config.enable_device_from_file(video_names[i])\n",
    "    config.enable_stream(rs.stream.depth, rs.format.z16, 15)\n",
    "    config.enable_stream(rs.stream.color, rs.format.rgb8, 15)\n",
    "    profile = pipeline.start(config)\n",
    "    \n",
    "    profile.get_device().as_playback().set_real_time(False)\n",
    "    \n",
    "#     device = profile.get_device()\n",
    "#     playback = rs.playback(device)\n",
    "#     playback.set_real_time(False)\n",
    "#     print(rs.frame_queue.capacity)\n",
    "    frames = pipeline.wait_for_frames()\n",
    "    depth_frame = frames.get_depth_frame()\n",
    "    depth_image_first = np.asanyarray(depth_frame.get_data())\n",
    "\n",
    "\n",
    "\n",
    "    while True:\n",
    "        frames = pipeline.wait_for_frames()\n",
    "\n",
    "        depth_frame = frames.get_depth_frame()\n",
    "        color_frame = frames.get_color_frame()\n",
    "        depth_image = np.asanyarray(depth_frame.get_data())\n",
    "        color_image = np.asanyarray(color_frame.get_data())\n",
    "        imageio.imwrite('RGB/rgb_'+str(i)+'_'+str(j)+'.tiff', color_image)\n",
    "        imageio.imwrite('depth/depth_'+str(i)+'_'+str(j)+'.tiff', depth_image)\n",
    "        j+=1\n",
    "        if (depth_image_first == depth_image).all():\n",
    "            break\n",
    "\n",
    "\n",
    "#     plt.figure()\n",
    "#     plt.subplot(1, 2, 1)\n",
    "#     plt.imshow(color_image)\n",
    "#     plt.subplot(1, 2, 2)\n",
    "#     plt.imshow(depth_image)\n",
    "#     print(np.max(depth_image))\n",
    "    \n",
    "    pipeline.stop()"
   ]
  },
  {
   "cell_type": "code",
   "execution_count": 1,
   "id": "ignored-bailey",
   "metadata": {},
   "outputs": [
    {
     "ename": "RuntimeError",
     "evalue": "Frame didn't arrive within 5000",
     "output_type": "error",
     "traceback": [
      "\u001b[1;31m---------------------------------------------------------------------------\u001b[0m",
      "\u001b[1;31mRuntimeError\u001b[0m                              Traceback (most recent call last)",
      "\u001b[1;32m~\\AppData\\Local\\Temp/ipykernel_17224/3050501851.py\u001b[0m in \u001b[0;36m<module>\u001b[1;34m\u001b[0m\n\u001b[0;32m     37\u001b[0m \u001b[1;32mwhile\u001b[0m \u001b[1;32mTrue\u001b[0m\u001b[1;33m:\u001b[0m\u001b[1;33m\u001b[0m\u001b[1;33m\u001b[0m\u001b[0m\n\u001b[0;32m     38\u001b[0m \u001b[1;33m\u001b[0m\u001b[0m\n\u001b[1;32m---> 39\u001b[1;33m     \u001b[0mframes\u001b[0m \u001b[1;33m=\u001b[0m \u001b[0mpipeline\u001b[0m\u001b[1;33m.\u001b[0m\u001b[0mwait_for_frames\u001b[0m\u001b[1;33m(\u001b[0m\u001b[1;33m)\u001b[0m\u001b[1;33m\u001b[0m\u001b[1;33m\u001b[0m\u001b[0m\n\u001b[0m\u001b[0;32m     40\u001b[0m \u001b[1;33m\u001b[0m\u001b[0m\n\u001b[0;32m     41\u001b[0m         \u001b[1;31m# Get depth frame\u001b[0m\u001b[1;33m\u001b[0m\u001b[1;33m\u001b[0m\u001b[1;33m\u001b[0m\u001b[0m\n",
      "\u001b[1;31mRuntimeError\u001b[0m: Frame didn't arrive within 5000"
     ]
    }
   ],
   "source": [
    "import pyrealsense2 as rs\n",
    "import matplotlib.pyplot as plt\n",
    "import numpy as np\n",
    "import imageio\n",
    "import time\n",
    "import cv2\n",
    "import glob\n",
    "\n",
    "pipeline = rs.pipeline()\n",
    "config = rs.config()\n",
    "\n",
    "filenames = glob.glob('Videos/*.bag')\n",
    "\n",
    "\n",
    "\n",
    "#config.enable_stream(rs.stream.depth, rs.format.z16, 30)\n",
    "\n",
    "\n",
    "\n",
    "cv2.namedWindow(\"Depth Stream\", cv2.WINDOW_AUTOSIZE)\n",
    "colorizer = rs.colorizer()\n",
    "\n",
    "decimation = rs.decimation_filter()\n",
    "decimation.set_option(rs.option.filter_magnitude, 1)\n",
    "\n",
    "spatial = rs.spatial_filter()\n",
    "spatial.set_option(rs.option.filter_magnitude, 5)\n",
    "spatial.set_option(rs.option.filter_smooth_alpha, 1)\n",
    "spatial.set_option(rs.option.filter_smooth_delta, 50)\n",
    "spatial.set_option(rs.option.holes_fill, 2)\n",
    "\n",
    "i = 0\n",
    "config.enable_device_from_file(filenames[0], False)\n",
    "pipeline.start(config)\n",
    "    \n",
    "    \n",
    "while True:\n",
    "    \n",
    "    frames = pipeline.wait_for_frames()\n",
    "\n",
    "        # Get depth frame\n",
    "    depth_frame = frames.get_depth_frame()\n",
    "    \n",
    "    decimated_depth = decimation.process(depth_frame)\n",
    "    filtered_depth = spatial.process(decimated_depth)\n",
    "        # Colorize depth frame to jet colormap\n",
    "    depth_color_frame = colorizer.colorize(filtered_depth)\n",
    "\n",
    "        # Convert depth_frame to numpy array to render image in opencv\n",
    "    depth_color_image = np.asanyarray(depth_color_frame.get_data())\n",
    "\n",
    "        # Render image in opencv window\n",
    "    cv2.imshow(\"Depth Stream\", depth_color_image)\n",
    "    key = cv2.waitKey(1)\n",
    "        # if pressed escape exit program\n",
    "    i+=1\n",
    "    #pipeline.stop()\n",
    "    if key == 27:\n",
    "        cv2.destroyAllWindows()\n",
    "        break\n",
    "            \n",
    "            \n"
   ]
  },
  {
   "cell_type": "code",
   "execution_count": 4,
   "id": "d958b100",
   "metadata": {},
   "outputs": [],
   "source": [
    "def extract_tiff_from_bag(filename, destination):\n",
    "    pipeline = rs.pipeline()\n",
    "    config = rs.config()\n",
    "    config.enable_device_from_file(filename, False)\n",
    "    pipeline.start(config)\n",
    "    \n",
    "    \n",
    "    decimation = rs.decimation_filter()\n",
    "    decimation.set_option(rs.option.filter_magnitude, 1)\n",
    "\n",
    "    spatial = rs.spatial_filter()\n",
    "    spatial.set_option(rs.option.filter_magnitude, 5)\n",
    "    spatial.set_option(rs.option.filter_smooth_alpha, 1)\n",
    "    spatial.set_option(rs.option.filter_smooth_delta, 50)\n",
    "    spatial.set_option(rs.option.holes_fill, 2)\n",
    "\n",
    "    i = 0\n",
    "    while True:\n",
    "        try:\n",
    "            frames = pipeline.wait_for_frames()\n",
    "            depth_frame = frames.get_depth_frame()\n",
    "            \n",
    "            decimated_depth = decimation.process(depth_frame)\n",
    "            filtered_depth = spatial.process(decimated_depth)\n",
    "            depth_image = np.asanyarray(filtered_depth.get_data())\n",
    "            imageio.imwrite(destination+f'{i}.tif', depth_image, 'TIFF')\n",
    "            time.sleep(0.01)\n",
    "            i+=1\n",
    "            \n",
    "        except RuntimeError:\n",
    "            pipeline.stop()\n",
    "            break\n",
    "    return\n",
    "    \n",
    "    "
   ]
  },
  {
   "cell_type": "code",
   "execution_count": 8,
   "id": "bfaf12fc",
   "metadata": {},
   "outputs": [
    {
     "name": "stdout",
     "output_type": "stream",
     "text": [
      "['Videos\\\\marginal_cow_0.bag', 'Videos\\\\marginal_cow_1.bag', 'Videos\\\\marginal_cow_2.bag', 'Videos\\\\marginal_cow_3.bag', 'Videos\\\\marginal_cow_4.bag', 'Videos\\\\white_cow_0.bag', 'Videos\\\\white_cow_1.bag', 'Videos\\\\white_cow_2.bag', 'Videos\\\\white_cow_3.bag', 'Videos\\\\white_cow_4.bag']\n",
      "['\\\\Users\\\\zacha\\\\Documents\\\\Precision Ranching Code\\\\tiffs_from_videos\\\\marginal_cow_0\\\\', '\\\\Users\\\\zacha\\\\Documents\\\\Precision Ranching Code\\\\tiffs_from_videos\\\\marginal_cow_1\\\\', '\\\\Users\\\\zacha\\\\Documents\\\\Precision Ranching Code\\\\tiffs_from_videos\\\\marginal_cow_2\\\\', '\\\\Users\\\\zacha\\\\Documents\\\\Precision Ranching Code\\\\tiffs_from_videos\\\\marginal_cow_3\\\\', '\\\\Users\\\\zacha\\\\Documents\\\\Precision Ranching Code\\\\tiffs_from_videos\\\\marginal_cow_4\\\\', '\\\\Users\\\\zacha\\\\Documents\\\\Precision Ranching Code\\\\tiffs_from_videos\\\\white_cow_0\\\\', '\\\\Users\\\\zacha\\\\Documents\\\\Precision Ranching Code\\\\tiffs_from_videos\\\\white_cow_1\\\\', '\\\\Users\\\\zacha\\\\Documents\\\\Precision Ranching Code\\\\tiffs_from_videos\\\\white_cow_2\\\\', '\\\\Users\\\\zacha\\\\Documents\\\\Precision Ranching Code\\\\tiffs_from_videos\\\\white_cow_3\\\\', '\\\\Users\\\\zacha\\\\Documents\\\\Precision Ranching Code\\\\tiffs_from_videos\\\\white_cow_4\\\\']\n"
     ]
    }
   ],
   "source": [
    "import pyrealsense2 as rs\n",
    "import matplotlib.pyplot as plt\n",
    "import numpy as np\n",
    "import imageio\n",
    "import time\n",
    "import cv2\n",
    "import glob\n",
    "import os\n",
    "\n",
    "filenames = glob.glob('Videos/*.bag')\n",
    "# print(filenames)\n",
    "destinations = []\n",
    "\n",
    "for i in range(0, len(filenames)):\n",
    "    os.chdir('tiffs_from_videos')\n",
    "    #os.mkdir(os.path.basename(filenames[i])[0:-4])\n",
    "    destinations.append('\\\\Users\\\\zacha\\\\Documents\\\\Precision Ranching Code\\\\tiffs_from_videos\\\\'+os.path.basename(filenames[i])[0:-4]+'\\\\')\n",
    "    os.chdir('..')\n",
    "    \n",
    "# print(destinations)\n",
    "\n",
    "for i in range(0, len(filenames)):\n",
    "    extract_tiff_from_bag(filenames[i], destinations[i])"
   ]
  },
  {
   "cell_type": "code",
   "execution_count": 22,
   "id": "fd808fb5",
   "metadata": {},
   "outputs": [
    {
     "data": {
      "text/plain": [
       "<matplotlib.image.AxesImage at 0x2a50d8a3250>"
      ]
     },
     "execution_count": 22,
     "metadata": {},
     "output_type": "execute_result"
    },
    {
     "data": {
      "image/png": "[encoded data removed]",
      "text/plain": [
       "<Figure size 432x288 with 1 Axes>"
      ]
     },
     "metadata": {
      "needs_background": "light"
     },
     "output_type": "display_data"
    }
   ],
   "source": [
    "\n",
    "im = imageio.imread('tiffs_from_videos/marginal_cow_0/0.tif')\n",
    "\n",
    "plt.figure()\n",
    "plt.imshow(im, vmin = 3500, vmax=4500)"
   ]
  }
 ],
 "metadata": {
  "kernelspec": {
   "display_name": "Python 3 (ipykernel)",
   "language": "python",
   "name": "python3"
  },
  "language_info": {
   "codemirror_mode": {
    "name": "ipython",
    "version": 3
   },
   "file_extension": ".py",
   "mimetype": "text/x-python",
   "name": "python",
   "nbconvert_exporter": "python",
   "pygments_lexer": "ipython3",
   "version": "3.8.5"
  }
 },
 "nbformat": 4,
 "nbformat_minor": 5
}
